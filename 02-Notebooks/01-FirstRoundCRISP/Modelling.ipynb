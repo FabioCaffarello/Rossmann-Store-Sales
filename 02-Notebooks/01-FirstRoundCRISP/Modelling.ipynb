{
 "cells": [
  {
   "cell_type": "markdown",
   "metadata": {},
   "source": [
    "# IMPORTS"
   ]
  },
  {
   "cell_type": "markdown",
   "metadata": {},
   "source": [
    "## Libraries"
   ]
  },
  {
   "cell_type": "code",
   "execution_count": 1,
   "metadata": {},
   "outputs": [],
   "source": [
    "import pandas as pd\n",
    "import numpy as np\n",
    "\n",
    "import datetime\n",
    "\n",
    "import warnings\n",
    "warnings.filterwarnings(\"ignore\")\n",
    "\n",
    "import seaborn as sns\n",
    "import matplotlib.pyplot as plt\n",
    "from IPython.core.display import HTML\n",
    "\n",
    "from sklearn.preprocessing import RobustScaler, MinMaxScaler, LabelEncoder\n",
    "from sklearn.ensemble import RandomForestRegressor\n",
    "from sklearn.metrics import mean_absolute_error, mean_squared_error\n",
    "from sklearn.linear_model import LinearRegression, Lasso\n",
    "\n",
    "import xgboost as xgb\n",
    "from lightgbm import LGBMRegressor"
   ]
  },
  {
   "cell_type": "markdown",
   "metadata": {},
   "source": [
    "## Helper Functions"
   ]
  },
  {
   "cell_type": "code",
   "execution_count": 2,
   "metadata": {},
   "outputs": [],
   "source": [
    "def crossValidation(XTraining, kfold, modelName, verbose=False):\n",
    "    maeList = []\n",
    "    mapeList = []\n",
    "    rmseList = []\n",
    "\n",
    "    for k in reversed(range(1, kfold+1)):\n",
    "        if verbose:\n",
    "            print(f'\\nKFold Number: {k}')\n",
    "        # Start and End Date for Validation\n",
    "        startDateValid = XTraining['Date'].max() - datetime.timedelta(days=k*6*7)\n",
    "        endDateValid = XTraining['Date'].max() - datetime.timedelta(days=(k-1)*6*7)\n",
    "\n",
    "        # Filtering Dataset\n",
    "        training = XTraining[XTraining['Date'] < startDateValid]\n",
    "        validation = XTraining[(XTraining['Date'] >= startDateValid) & (XTraining['Date'] <= endDateValid)]\n",
    "\n",
    "        # Training and Validation Dataset\n",
    "        # Training\n",
    "        XKFoldTraining = training.drop(['Date', 'Sales'], axis=1)\n",
    "        yKFoldTraining = training['Sales']\n",
    "\n",
    "        # Validation\n",
    "        XKFoldValidation = validation.drop(['Date', 'Sales'], axis=1)\n",
    "        yKFoldValidation = validation['Sales']\n",
    "\n",
    "        # Model\n",
    "        ## Model Map\n",
    "        modelMap = {\n",
    "            'Linear Regression': LinearRegression(),\n",
    "            'Linear Regression Regularized': Lasso(alpha=0.01)\n",
    "        }\n",
    "        \n",
    "        ## Mapped Model\n",
    "        model = modelMap[modelName]\n",
    "        model.fit(XKFoldTraining, yKFoldTraining)\n",
    "\n",
    "        # Prediction\n",
    "        yhat = model.predict(XKFoldValidation)\n",
    "\n",
    "        #Performance\n",
    "        modelResult = mlError('Linear Regression', np.expm1(yKFoldValidation), np.expm1(yhat))\n",
    "        \n",
    "        #Store Performance of each KFold iteration\n",
    "        maeList.append(modelResult['MAE'].tolist())\n",
    "        mapeList.append(modelResult['MAPE'].tolist())\n",
    "        rmseList.append(modelResult['RMSE'].tolist())\n",
    "\n",
    "\n",
    "    dictResult = {\n",
    "                    'Model Name': [modelName],\n",
    "                    'MAE CV': [np.round(np.mean(maeList),2).astype(str) + ' +/- ' + np.round(np.std(maeList),2).astype(str)],\n",
    "                    'MAPE CV': [np.round(np.mean(mapeList),2).astype(str) + ' +/- ' + np.round(np.std(mapeList),2).astype(str)],\n",
    "                    'RMSE CV': [np.round(np.mean(rmseList),2).astype(str) + ' +/- ' + np.round(np.std(rmseList),2).astype(str)]\n",
    "                }\n",
    "\n",
    "    return pd.DataFrame(dictResult)\n",
    "\n",
    "\n",
    "\n",
    "def mean_absolute_percentage_error(y, yhat):\n",
    "    return np.mean(np.abs((y - yhat) / y))\n",
    "\n",
    "\n",
    "\n",
    "def mlError(modelName, y, yhat):\n",
    "    mae = mean_absolute_error(y, yhat)\n",
    "    mape = mean_absolute_percentage_error(y, yhat)\n",
    "    rmse = np.sqrt(mean_squared_error(y, yhat))\n",
    "    \n",
    "    return pd.DataFrame({\n",
    "                            'ModelName': modelName,\n",
    "                            'MAE': mae,\n",
    "                            'MAPE': mape,\n",
    "                            'RMSE': rmse,\n",
    "                        }, index=[0])\n",
    "\n",
    "\n",
    "\n",
    "def jupyter_settings():\n",
    "    %matplotlib inline\n",
    "    %pylab inline\n",
    "    \n",
    "    plt.style.use( 'bmh' )\n",
    "    plt.rcParams['figure.figsize'] = [25, 16]\n",
    "    plt.rcParams['font.size'] = 24\n",
    "    \n",
    "    display( HTML( '<style>.container { width:100% !important; }</style>') )\n",
    "    pd.options.display.max_columns = None\n",
    "    pd.options.display.max_rows = None\n",
    "    pd.set_option( 'display.expand_frame_repr', False )\n",
    "    \n",
    "    sns.set()"
   ]
  },
  {
   "cell_type": "code",
   "execution_count": 3,
   "metadata": {},
   "outputs": [
    {
     "name": "stdout",
     "output_type": "stream",
     "text": [
      "Populating the interactive namespace from numpy and matplotlib\n"
     ]
    },
    {
     "data": {
      "text/html": [
       "<style>.container { width:100% !important; }</style>"
      ],
      "text/plain": [
       "<IPython.core.display.HTML object>"
      ]
     },
     "metadata": {},
     "output_type": "display_data"
    }
   ],
   "source": [
    "jupyter_settings()"
   ]
  },
  {
   "cell_type": "markdown",
   "metadata": {},
   "source": [
    "## Loading Data"
   ]
  },
  {
   "cell_type": "code",
   "execution_count": 4,
   "metadata": {
    "ExecuteTime": {
     "end_time": "2020-12-05T02:28:14.396997Z",
     "start_time": "2020-12-05T02:28:10.514237Z"
    }
   },
   "outputs": [],
   "source": [
    "dfRaw = pd.read_csv('../../01-Data/Results/01-FirstRoundCRISP/dfDataPreparation.csv', low_memory=False, parse_dates=['Date'])"
   ]
  },
  {
   "cell_type": "markdown",
   "metadata": {},
   "source": [
    "# MACHINE LEARNING MODELLING"
   ]
  },
  {
   "cell_type": "code",
   "execution_count": 31,
   "metadata": {
    "ExecuteTime": {
     "end_time": "2020-12-05T02:28:14.519146Z",
     "start_time": "2020-12-05T02:28:14.403862Z"
    }
   },
   "outputs": [],
   "source": [
    "dfRaw1 = dfRaw.copy()"
   ]
  },
  {
   "cell_type": "markdown",
   "metadata": {},
   "source": [
    "## Feature Selection >> Boruta"
   ]
  },
  {
   "cell_type": "code",
   "execution_count": 32,
   "metadata": {},
   "outputs": [],
   "source": [
    "toKeepBoruta = [\n",
    "                'Store',\n",
    "                'Promo',\n",
    "                'StoreType',\n",
    "                'Assortment',\n",
    "                'CompetitionDistance',\n",
    "                'CompetitionOpenSinceMonth',\n",
    "                'CompetitionOpenSinceYear',\n",
    "                'Promo2',\n",
    "                'Promo2SinceWeek',\n",
    "                'Promo2SinceYear',\n",
    "                'CompetionTimeMonth',\n",
    "                'PromoTimeWeek',\n",
    "                'MonthSin',\n",
    "                'MonthCos',\n",
    "                'DaySin',\n",
    "                'DayCos',\n",
    "                'WeekOfYearSin',\n",
    "                'WeekOfYearCos',\n",
    "                'DayOfWeekSin',\n",
    "                'DayOfWeekCos',\n",
    "                'Date',\n",
    "                'Sales']\n"
   ]
  },
  {
   "cell_type": "markdown",
   "metadata": {},
   "source": [
    "## Split DataFrame into Training and Validation Dataset"
   ]
  },
  {
   "cell_type": "code",
   "execution_count": 81,
   "metadata": {},
   "outputs": [],
   "source": [
    "toKeep = toKeepBoruta[:-2]\n",
    "\n",
    "#Training Dataset\n",
    "XTrain = dfRaw1[dfRaw1['Date'] < '2015-06-19']\n",
    "yTrain = XTrain['Sales']\n",
    "XTr = XTrain[toKeep]\n",
    "\n",
    "\n",
    "#Validation Dataset\n",
    "XTest = dfRaw1[dfRaw1['Date'] >= '2015-06-19']\n",
    "yTest = XTest['Sales']\n",
    "XTst = XTest[toKeep]"
   ]
  },
  {
   "cell_type": "markdown",
   "metadata": {},
   "source": [
    "## Average Model"
   ]
  },
  {
   "cell_type": "code",
   "execution_count": 37,
   "metadata": {},
   "outputs": [
    {
     "data": {
      "text/html": [
       "<div>\n",
       "<style scoped>\n",
       "    .dataframe tbody tr th:only-of-type {\n",
       "        vertical-align: middle;\n",
       "    }\n",
       "\n",
       "    .dataframe tbody tr th {\n",
       "        vertical-align: top;\n",
       "    }\n",
       "\n",
       "    .dataframe thead th {\n",
       "        text-align: right;\n",
       "    }\n",
       "</style>\n",
       "<table border=\"1\" class=\"dataframe\">\n",
       "  <thead>\n",
       "    <tr style=\"text-align: right;\">\n",
       "      <th></th>\n",
       "      <th>ModelName</th>\n",
       "      <th>MAE</th>\n",
       "      <th>MAPE</th>\n",
       "      <th>RMSE</th>\n",
       "    </tr>\n",
       "  </thead>\n",
       "  <tbody>\n",
       "    <tr>\n",
       "      <th>0</th>\n",
       "      <td>AverageModel</td>\n",
       "      <td>1354.800353</td>\n",
       "      <td>0.2064</td>\n",
       "      <td>1835.135542</td>\n",
       "    </tr>\n",
       "  </tbody>\n",
       "</table>\n",
       "</div>"
      ],
      "text/plain": [
       "      ModelName          MAE    MAPE         RMSE\n",
       "0  AverageModel  1354.800353  0.2064  1835.135542"
      ]
     },
     "execution_count": 37,
     "metadata": {},
     "output_type": "execute_result"
    }
   ],
   "source": [
    "aux1 = XTst.copy()\n",
    "aux1['Sales'] = yTest.copy()\n",
    "\n",
    "# Prediction\n",
    "aux2 = aux1[['Store', 'Sales']].groupby('Store').mean().reset_index().rename(columns={'Sales': 'Predictions'})\n",
    "aux1 = pd.merge(aux1, aux2, how='left', on='Store')\n",
    "yhatBaseline = aux1['Predictions']\n",
    "\n",
    "#Performance\n",
    "baselineResult = mlError('AverageModel', np.expm1(yTest), np.expm1(yhatBaseline))\n",
    "baselineResult"
   ]
  },
  {
   "cell_type": "markdown",
   "metadata": {},
   "source": [
    "## Linear Regression Model"
   ]
  },
  {
   "cell_type": "code",
   "execution_count": 41,
   "metadata": {},
   "outputs": [
    {
     "data": {
      "text/html": [
       "<div>\n",
       "<style scoped>\n",
       "    .dataframe tbody tr th:only-of-type {\n",
       "        vertical-align: middle;\n",
       "    }\n",
       "\n",
       "    .dataframe tbody tr th {\n",
       "        vertical-align: top;\n",
       "    }\n",
       "\n",
       "    .dataframe thead th {\n",
       "        text-align: right;\n",
       "    }\n",
       "</style>\n",
       "<table border=\"1\" class=\"dataframe\">\n",
       "  <thead>\n",
       "    <tr style=\"text-align: right;\">\n",
       "      <th></th>\n",
       "      <th>ModelName</th>\n",
       "      <th>MAE</th>\n",
       "      <th>MAPE</th>\n",
       "      <th>RMSE</th>\n",
       "    </tr>\n",
       "  </thead>\n",
       "  <tbody>\n",
       "    <tr>\n",
       "      <th>0</th>\n",
       "      <td>Linear Regression</td>\n",
       "      <td>1867.089774</td>\n",
       "      <td>0.292694</td>\n",
       "      <td>2671.049215</td>\n",
       "    </tr>\n",
       "  </tbody>\n",
       "</table>\n",
       "</div>"
      ],
      "text/plain": [
       "           ModelName          MAE      MAPE         RMSE\n",
       "0  Linear Regression  1867.089774  0.292694  2671.049215"
      ]
     },
     "execution_count": 41,
     "metadata": {},
     "output_type": "execute_result"
    }
   ],
   "source": [
    "# Model\n",
    "lr = LinearRegression()\n",
    "lr.fit(XTr, yTrain)\n",
    "\n",
    "# Prediction\n",
    "yhatLr = lr.predict(XTst)\n",
    "\n",
    "# Performance\n",
    "lrResult = mlError('Linear Regression', np.expm1(yTest), np.expm1(yhatLr))\n",
    "lrResult"
   ]
  },
  {
   "cell_type": "markdown",
   "metadata": {},
   "source": [
    "## Linear Regression Regularized Model -> Lasso"
   ]
  },
  {
   "cell_type": "code",
   "execution_count": 43,
   "metadata": {},
   "outputs": [
    {
     "data": {
      "text/html": [
       "<div>\n",
       "<style scoped>\n",
       "    .dataframe tbody tr th:only-of-type {\n",
       "        vertical-align: middle;\n",
       "    }\n",
       "\n",
       "    .dataframe tbody tr th {\n",
       "        vertical-align: top;\n",
       "    }\n",
       "\n",
       "    .dataframe thead th {\n",
       "        text-align: right;\n",
       "    }\n",
       "</style>\n",
       "<table border=\"1\" class=\"dataframe\">\n",
       "  <thead>\n",
       "    <tr style=\"text-align: right;\">\n",
       "      <th></th>\n",
       "      <th>ModelName</th>\n",
       "      <th>MAE</th>\n",
       "      <th>MAPE</th>\n",
       "      <th>RMSE</th>\n",
       "    </tr>\n",
       "  </thead>\n",
       "  <tbody>\n",
       "    <tr>\n",
       "      <th>0</th>\n",
       "      <td>Linear Regression Regularized</td>\n",
       "      <td>1890.285928</td>\n",
       "      <td>0.294716</td>\n",
       "      <td>2720.254331</td>\n",
       "    </tr>\n",
       "  </tbody>\n",
       "</table>\n",
       "</div>"
      ],
      "text/plain": [
       "                       ModelName          MAE      MAPE         RMSE\n",
       "0  Linear Regression Regularized  1890.285928  0.294716  2720.254331"
      ]
     },
     "execution_count": 43,
     "metadata": {},
     "output_type": "execute_result"
    }
   ],
   "source": [
    "# Model\n",
    "lrr = Lasso(alpha=0.01)\n",
    "lrr.fit(XTr, yTrain)\n",
    "\n",
    "# Prediction\n",
    "yhatLrr = lrr.predict(XTst)\n",
    "\n",
    "# Performance\n",
    "lrrResult = mlError('Linear Regression Regularized', np.expm1(yTest), np.expm1(yhatLrr))\n",
    "lrrResult"
   ]
  },
  {
   "cell_type": "markdown",
   "metadata": {},
   "source": [
    "## Random Forest Regressor"
   ]
  },
  {
   "cell_type": "code",
   "execution_count": 44,
   "metadata": {},
   "outputs": [
    {
     "data": {
      "text/html": [
       "<div>\n",
       "<style scoped>\n",
       "    .dataframe tbody tr th:only-of-type {\n",
       "        vertical-align: middle;\n",
       "    }\n",
       "\n",
       "    .dataframe tbody tr th {\n",
       "        vertical-align: top;\n",
       "    }\n",
       "\n",
       "    .dataframe thead th {\n",
       "        text-align: right;\n",
       "    }\n",
       "</style>\n",
       "<table border=\"1\" class=\"dataframe\">\n",
       "  <thead>\n",
       "    <tr style=\"text-align: right;\">\n",
       "      <th></th>\n",
       "      <th>ModelName</th>\n",
       "      <th>MAE</th>\n",
       "      <th>MAPE</th>\n",
       "      <th>RMSE</th>\n",
       "    </tr>\n",
       "  </thead>\n",
       "  <tbody>\n",
       "    <tr>\n",
       "      <th>0</th>\n",
       "      <td>Random Forest Regressor</td>\n",
       "      <td>679.288277</td>\n",
       "      <td>0.099894</td>\n",
       "      <td>1010.633903</td>\n",
       "    </tr>\n",
       "  </tbody>\n",
       "</table>\n",
       "</div>"
      ],
      "text/plain": [
       "                 ModelName         MAE      MAPE         RMSE\n",
       "0  Random Forest Regressor  679.288277  0.099894  1010.633903"
      ]
     },
     "execution_count": 44,
     "metadata": {},
     "output_type": "execute_result"
    }
   ],
   "source": [
    "# Model\n",
    "rf = RandomForestRegressor(n_estimators=100, n_jobs=-1, random_state=42)\n",
    "rf.fit(XTr, yTrain)\n",
    "\n",
    "# Prediction\n",
    "yhatRf = rf.predict(XTst)\n",
    "\n",
    "# Performance\n",
    "rfResult = mlError('Random Forest Regressor', np.expm1(yTest), np.expm1(yhatRf))\n",
    "rfResult"
   ]
  },
  {
   "cell_type": "markdown",
   "metadata": {},
   "source": [
    "## XGBoost Regressor"
   ]
  },
  {
   "cell_type": "code",
   "execution_count": 59,
   "metadata": {},
   "outputs": [
    {
     "data": {
      "text/html": [
       "<div>\n",
       "<style scoped>\n",
       "    .dataframe tbody tr th:only-of-type {\n",
       "        vertical-align: middle;\n",
       "    }\n",
       "\n",
       "    .dataframe tbody tr th {\n",
       "        vertical-align: top;\n",
       "    }\n",
       "\n",
       "    .dataframe thead th {\n",
       "        text-align: right;\n",
       "    }\n",
       "</style>\n",
       "<table border=\"1\" class=\"dataframe\">\n",
       "  <thead>\n",
       "    <tr style=\"text-align: right;\">\n",
       "      <th></th>\n",
       "      <th>ModelName</th>\n",
       "      <th>MAE</th>\n",
       "      <th>MAPE</th>\n",
       "      <th>RMSE</th>\n",
       "    </tr>\n",
       "  </thead>\n",
       "  <tbody>\n",
       "    <tr>\n",
       "      <th>0</th>\n",
       "      <td>XGBoost Regressor</td>\n",
       "      <td>1270.979455</td>\n",
       "      <td>0.171472</td>\n",
       "      <td>1888.918717</td>\n",
       "    </tr>\n",
       "  </tbody>\n",
       "</table>\n",
       "</div>"
      ],
      "text/plain": [
       "           ModelName          MAE      MAPE         RMSE\n",
       "0  XGBoost Regressor  1270.979455  0.171472  1888.918717"
      ]
     },
     "execution_count": 59,
     "metadata": {},
     "output_type": "execute_result"
    }
   ],
   "source": [
    "# Model\n",
    "modelXGB = xgb.XGBRegressor( objective='reg:squarederror',\n",
    "                              n_estimators=500, \n",
    "                              eta=0.01, \n",
    "                              max_depth=10, \n",
    "                              subsample=0.7,\n",
    "                              colsample_bytree=0.9)\n",
    "modelXGB.fit(XTr, yTrain)\n",
    "\n",
    "# Prediction\n",
    "yhatXGB = modelXGB.predict(XTst)\n",
    "\n",
    "# Performance\n",
    "modelXGBResult = mlError('XGBoost Regressor', np.expm1(yTest), np.expm1(yhatXGB))\n",
    "modelXGBResult"
   ]
  },
  {
   "cell_type": "markdown",
   "metadata": {},
   "source": [
    "## LightGBM Regressor"
   ]
  },
  {
   "cell_type": "code",
   "execution_count": 60,
   "metadata": {},
   "outputs": [
    {
     "name": "stdout",
     "output_type": "stream",
     "text": [
      "[LightGBM] [Warning] min_data_in_leaf is set=50, min_child_samples=20 will be ignored. Current value: min_data_in_leaf=50\n"
     ]
    },
    {
     "data": {
      "text/html": [
       "<div>\n",
       "<style scoped>\n",
       "    .dataframe tbody tr th:only-of-type {\n",
       "        vertical-align: middle;\n",
       "    }\n",
       "\n",
       "    .dataframe tbody tr th {\n",
       "        vertical-align: top;\n",
       "    }\n",
       "\n",
       "    .dataframe thead th {\n",
       "        text-align: right;\n",
       "    }\n",
       "</style>\n",
       "<table border=\"1\" class=\"dataframe\">\n",
       "  <thead>\n",
       "    <tr style=\"text-align: right;\">\n",
       "      <th></th>\n",
       "      <th>ModelName</th>\n",
       "      <th>MAE</th>\n",
       "      <th>MAPE</th>\n",
       "      <th>RMSE</th>\n",
       "    </tr>\n",
       "  </thead>\n",
       "  <tbody>\n",
       "    <tr>\n",
       "      <th>0</th>\n",
       "      <td>lightgbm Regressor</td>\n",
       "      <td>1154.518817</td>\n",
       "      <td>0.173184</td>\n",
       "      <td>1658.615271</td>\n",
       "    </tr>\n",
       "  </tbody>\n",
       "</table>\n",
       "</div>"
      ],
      "text/plain": [
       "            ModelName          MAE      MAPE         RMSE\n",
       "0  lightgbm Regressor  1154.518817  0.173184  1658.615271"
      ]
     },
     "execution_count": 60,
     "metadata": {},
     "output_type": "execute_result"
    }
   ],
   "source": [
    "modelLGBM = LGBMRegressor(num_leaves=10, min_data_in_leaf=50, n_jobs=-1, random_state=42, n_estimators=500)\n",
    "\n",
    "modelLGBM.fit(XTr, yTrain)\n",
    "\n",
    "# Prediction\n",
    "yhatLGBM = modelLGBM.predict(XTst)\n",
    "\n",
    "# Performance\n",
    "modelLGBMResult = mlError('lightgbm Regressor', np.expm1(yTest), np.expm1(yhatLGBM))\n",
    "modelLGBMResult"
   ]
  },
  {
   "cell_type": "markdown",
   "metadata": {},
   "source": [
    "## Compared Model's Performance"
   ]
  },
  {
   "cell_type": "code",
   "execution_count": 61,
   "metadata": {},
   "outputs": [
    {
     "data": {
      "text/html": [
       "<div>\n",
       "<style scoped>\n",
       "    .dataframe tbody tr th:only-of-type {\n",
       "        vertical-align: middle;\n",
       "    }\n",
       "\n",
       "    .dataframe tbody tr th {\n",
       "        vertical-align: top;\n",
       "    }\n",
       "\n",
       "    .dataframe thead th {\n",
       "        text-align: right;\n",
       "    }\n",
       "</style>\n",
       "<table border=\"1\" class=\"dataframe\">\n",
       "  <thead>\n",
       "    <tr style=\"text-align: right;\">\n",
       "      <th></th>\n",
       "      <th>ModelName</th>\n",
       "      <th>MAE</th>\n",
       "      <th>MAPE</th>\n",
       "      <th>RMSE</th>\n",
       "    </tr>\n",
       "  </thead>\n",
       "  <tbody>\n",
       "    <tr>\n",
       "      <th>0</th>\n",
       "      <td>Random Forest Regressor</td>\n",
       "      <td>679.288277</td>\n",
       "      <td>0.099894</td>\n",
       "      <td>1010.633903</td>\n",
       "    </tr>\n",
       "    <tr>\n",
       "      <th>0</th>\n",
       "      <td>lightgbm Regressor</td>\n",
       "      <td>1154.518817</td>\n",
       "      <td>0.173184</td>\n",
       "      <td>1658.615271</td>\n",
       "    </tr>\n",
       "    <tr>\n",
       "      <th>0</th>\n",
       "      <td>AverageModel</td>\n",
       "      <td>1354.800353</td>\n",
       "      <td>0.206400</td>\n",
       "      <td>1835.135542</td>\n",
       "    </tr>\n",
       "    <tr>\n",
       "      <th>0</th>\n",
       "      <td>XGBoost Regressor</td>\n",
       "      <td>1270.979455</td>\n",
       "      <td>0.171472</td>\n",
       "      <td>1888.918717</td>\n",
       "    </tr>\n",
       "    <tr>\n",
       "      <th>0</th>\n",
       "      <td>Linear Regression</td>\n",
       "      <td>1867.089774</td>\n",
       "      <td>0.292694</td>\n",
       "      <td>2671.049215</td>\n",
       "    </tr>\n",
       "    <tr>\n",
       "      <th>0</th>\n",
       "      <td>Linear Regression Regularized</td>\n",
       "      <td>1890.285928</td>\n",
       "      <td>0.294716</td>\n",
       "      <td>2720.254331</td>\n",
       "    </tr>\n",
       "  </tbody>\n",
       "</table>\n",
       "</div>"
      ],
      "text/plain": [
       "                       ModelName          MAE      MAPE         RMSE\n",
       "0        Random Forest Regressor   679.288277  0.099894  1010.633903\n",
       "0             lightgbm Regressor  1154.518817  0.173184  1658.615271\n",
       "0                   AverageModel  1354.800353  0.206400  1835.135542\n",
       "0              XGBoost Regressor  1270.979455  0.171472  1888.918717\n",
       "0              Linear Regression  1867.089774  0.292694  2671.049215\n",
       "0  Linear Regression Regularized  1890.285928  0.294716  2720.254331"
      ]
     },
     "execution_count": 61,
     "metadata": {},
     "output_type": "execute_result"
    }
   ],
   "source": [
    "modellingResult = pd.concat([baselineResult, lrResult, lrrResult, rfResult, modelXGBResult, modelLGBMResult])\n",
    "modellingResult.sort_values('RMSE')"
   ]
  },
  {
   "cell_type": "markdown",
   "metadata": {},
   "source": [
    "# VALIDATION"
   ]
  },
  {
   "cell_type": "markdown",
   "metadata": {},
   "source": [
    "## Split DataFrame into Training and Validation Dataset"
   ]
  },
  {
   "cell_type": "code",
   "execution_count": 82,
   "metadata": {},
   "outputs": [],
   "source": [
    "#Training Dataset\n",
    "XTraining = XTrain[toKeepBoruta]"
   ]
  },
  {
   "cell_type": "code",
   "execution_count": null,
   "metadata": {},
   "outputs": [],
   "source": [
    "crossValidation(XTraining, 5, 'Linear Regression', verbose=False)"
   ]
  }
 ],
 "metadata": {
  "kernelspec": {
   "display_name": "Python 3",
   "language": "python",
   "name": "python3"
  },
  "language_info": {
   "codemirror_mode": {
    "name": "ipython",
    "version": 3
   },
   "file_extension": ".py",
   "mimetype": "text/x-python",
   "name": "python",
   "nbconvert_exporter": "python",
   "pygments_lexer": "ipython3",
   "version": "3.8.3"
  },
  "toc": {
   "base_numbering": 1,
   "nav_menu": {},
   "number_sections": true,
   "sideBar": true,
   "skip_h1_title": false,
   "title_cell": "Table of Contents",
   "title_sidebar": "Contents",
   "toc_cell": false,
   "toc_position": {},
   "toc_section_display": true,
   "toc_window_display": false
  },
  "toc-autonumbering": true
 },
 "nbformat": 4,
 "nbformat_minor": 4
}
