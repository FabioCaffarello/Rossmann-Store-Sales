{
 "cells": [
  {
   "cell_type": "markdown",
   "metadata": {},
   "source": [
    "# IMPORTS"
   ]
  },
  {
   "cell_type": "markdown",
   "metadata": {},
   "source": [
    "## Libraries"
   ]
  },
  {
   "cell_type": "code",
   "execution_count": 11,
   "metadata": {},
   "outputs": [],
   "source": [
    "import pandas as pd\n",
    "import numpy as np\n",
    "import random\n",
    "import datetime\n",
    "import pickle\n",
    "\n",
    "import warnings\n",
    "warnings.filterwarnings(\"ignore\")\n",
    "\n",
    "import seaborn as sns\n",
    "import matplotlib.pyplot as plt\n",
    "from IPython.core.display import HTML\n",
    "\n",
    "from sklearn.preprocessing import RobustScaler, MinMaxScaler, LabelEncoder\n",
    "from sklearn.ensemble import RandomForestRegressor\n",
    "from sklearn.metrics import mean_absolute_error, mean_squared_error\n",
    "from sklearn.linear_model import LinearRegression, Lasso\n",
    "\n",
    "import xgboost as xgb\n",
    "from lightgbm import LGBMRegressor"
   ]
  },
  {
   "cell_type": "markdown",
   "metadata": {},
   "source": [
    "## Helper Functions"
   ]
  },
  {
   "cell_type": "code",
   "execution_count": null,
   "metadata": {},
   "outputs": [],
   "source": [
    "def crossValidation(XTraining, kfold, modelName, model='default', verbose=False):\n",
    "    maeList = []\n",
    "    mapeList = []\n",
    "    rmseList = []\n",
    "\n",
    "    for k in reversed(range(1, kfold+1)):\n",
    "        if verbose:\n",
    "            print(f'\\nKFold Number: {k}')\n",
    "        # Start and End Date for Validation\n",
    "        startDateValid = XTraining['Date'].max() - datetime.timedelta(days=k*6*7)\n",
    "        endDateValid = XTraining['Date'].max() - datetime.timedelta(days=(k-1)*6*7)\n",
    "\n",
    "        # Filtering Dataset\n",
    "        training = XTraining[XTraining['Date'] < startDateValid]\n",
    "        validation = XTraining[(XTraining['Date'] >= startDateValid) & (XTraining['Date'] <= endDateValid)]\n",
    "\n",
    "        # Training and Validation Dataset\n",
    "        # Training\n",
    "        XKFoldTraining = training.drop(['Date', 'Sales'], axis=1)\n",
    "        yKFoldTraining = training['Sales']\n",
    "\n",
    "        # Validation\n",
    "        XKFoldValidation = validation.drop(['Date', 'Sales'], axis=1)\n",
    "        yKFoldValidation = validation['Sales']\n",
    "\n",
    "        # Model\n",
    "        ## Model Map\n",
    "        modelMap = {\n",
    "            'Linear Regression': LinearRegression(),\n",
    "            'Lasso': Lasso(alpha=0.01),\n",
    "            'Random Forest Regressor': RandomForestRegressor(n_estimators=100, n_jobs=-1, random_state=42),\n",
    "            'XGBoost Regressor': xgb.XGBRegressor( objective='reg:squarederror', n_estimators=500, eta=0.01, max_depth=10, \n",
    "                                                      subsample=0.7, colsample_bytree=0.9),\n",
    "            'Lightgbm Regressor': LGBMRegressor(num_leaves=10, min_data_in_leaf=50, n_jobs=-1, random_state=42, n_estimators=500)   \n",
    "        }\n",
    "        \n",
    "        ## Mapped Model\n",
    "        if model == 'default':\n",
    "            model = modelMap[modelName]\n",
    "        else: model = model\n",
    "        \n",
    "        model.fit(XKFoldTraining, yKFoldTraining)\n",
    "\n",
    "        # Prediction\n",
    "        yhat = model.predict(XKFoldValidation)\n",
    "\n",
    "        #Performance\n",
    "        modelResult = mlError('Linear Regression', np.expm1(yKFoldValidation), np.expm1(yhat))\n",
    "        \n",
    "        #Store Performance of each KFold iteration\n",
    "        maeList.append(modelResult['MAE'].tolist())\n",
    "        mapeList.append(modelResult['MAPE'].tolist())\n",
    "        rmseList.append(modelResult['RMSE'].tolist())\n",
    "\n",
    "\n",
    "    dictResult = {\n",
    "                    'Model Name': [modelName],\n",
    "                    'MAE CV': [np.round(np.mean(maeList),2).astype(str) + ' +/- ' + np.round(np.std(maeList),2).astype(str)],\n",
    "                    'MAPE CV': [np.round(np.mean(mapeList),2).astype(str) + ' +/- ' + np.round(np.std(mapeList),2).astype(str)],\n",
    "                    'RMSE CV': [np.round(np.mean(rmseList),2).astype(str) + ' +/- ' + np.round(np.std(rmseList),2).astype(str)]\n",
    "                }\n",
    "\n",
    "    return pd.DataFrame(dictResult)\n",
    "\n",
    "\n",
    "def mean_percentage_error( y, yhat ):\n",
    "    return np.mean( ( y - yhat ) / y )\n",
    "\n",
    "def mean_absolute_percentage_error(y, yhat):\n",
    "    return np.mean(np.abs((y - yhat) / y))\n",
    "\n",
    "\n",
    "def mlError(modelName, y, yhat):\n",
    "    mae = mean_absolute_error(y, yhat)\n",
    "    mape = mean_absolute_percentage_error(y, yhat)\n",
    "    rmse = np.sqrt(mean_squared_error(y, yhat))\n",
    "    \n",
    "    return pd.DataFrame({\n",
    "                            'ModelName': modelName,\n",
    "                            'MAE': mae,\n",
    "                            'MAPE': mape,\n",
    "                            'RMSE': rmse,\n",
    "                        }, index=[0])\n",
    "\n",
    "\n",
    "\n",
    "def jupyter_settings():\n",
    "    %matplotlib inline\n",
    "    %pylab inline\n",
    "    \n",
    "    plt.style.use( 'bmh' )\n",
    "    plt.rcParams['figure.figsize'] = [25, 16]\n",
    "    plt.rcParams['font.size'] = 24\n",
    "    \n",
    "    display( HTML( '<style>.container { width:100% !important; }</style>') )\n",
    "    pd.options.display.max_columns = None\n",
    "    pd.options.display.max_rows = None\n",
    "    pd.set_option( 'display.expand_frame_repr', False )\n",
    "    \n",
    "    sns.set()"
   ]
  },
  {
   "cell_type": "code",
   "execution_count": 3,
   "metadata": {},
   "outputs": [
    {
     "name": "stdout",
     "output_type": "stream",
     "text": [
      "Populating the interactive namespace from numpy and matplotlib\n"
     ]
    },
    {
     "data": {
      "text/html": [
       "<style>.container { width:100% !important; }</style>"
      ],
      "text/plain": [
       "<IPython.core.display.HTML object>"
      ]
     },
     "metadata": {},
     "output_type": "display_data"
    }
   ],
   "source": [
    "jupyter_settings()"
   ]
  },
  {
   "cell_type": "markdown",
   "metadata": {},
   "source": [
    "## Loading Data"
   ]
  },
  {
   "cell_type": "code",
   "execution_count": 4,
   "metadata": {
    "ExecuteTime": {
     "end_time": "2020-12-05T02:28:14.396997Z",
     "start_time": "2020-12-05T02:28:10.514237Z"
    }
   },
   "outputs": [],
   "source": [
    "dfRaw = pd.read_csv('../../01-Data/Results/01-FirstRoundCRISP/dfDataPreparation.csv', low_memory=False, parse_dates=['Date'])"
   ]
  },
  {
   "cell_type": "markdown",
   "metadata": {},
   "source": [
    "# MACHINE LEARNING MODELLING"
   ]
  },
  {
   "cell_type": "code",
   "execution_count": 5,
   "metadata": {
    "ExecuteTime": {
     "end_time": "2020-12-05T02:28:14.519146Z",
     "start_time": "2020-12-05T02:28:14.403862Z"
    }
   },
   "outputs": [],
   "source": [
    "dfRaw1 = dfRaw.copy()"
   ]
  },
  {
   "cell_type": "markdown",
   "metadata": {},
   "source": [
    "## Feature Selection >> Boruta"
   ]
  },
  {
   "cell_type": "code",
   "execution_count": 6,
   "metadata": {},
   "outputs": [],
   "source": [
    "toKeepBoruta = [\n",
    "                'Store',\n",
    "                'Promo',\n",
    "                'StoreType',\n",
    "                'Assortment',\n",
    "                'CompetitionDistance',\n",
    "                'CompetitionOpenSinceMonth',\n",
    "                'CompetitionOpenSinceYear',\n",
    "                'Promo2',\n",
    "                'Promo2SinceWeek',\n",
    "                'Promo2SinceYear',\n",
    "                'CompetionTimeMonth',\n",
    "                'PromoTimeWeek',\n",
    "                'MonthSin',\n",
    "                'MonthCos',\n",
    "                'DaySin',\n",
    "                'DayCos',\n",
    "                'WeekOfYearSin',\n",
    "                'WeekOfYearCos',\n",
    "                'DayOfWeekSin',\n",
    "                'DayOfWeekCos',\n",
    "                'Date',\n",
    "                'Sales']"
   ]
  },
  {
   "cell_type": "markdown",
   "metadata": {},
   "source": [
    "# Split DataFrame into Training and Validation Dataset"
   ]
  },
  {
   "cell_type": "code",
   "execution_count": 7,
   "metadata": {},
   "outputs": [],
   "source": [
    "toKeep = toKeepBoruta[:-2]\n",
    "\n",
    "#Training Dataset\n",
    "XTrain = dfRaw1[dfRaw1['Date'] < '2015-06-19']\n",
    "yTrain = XTrain['Sales']\n",
    "XTr = XTrain[toKeep]\n",
    "\n",
    "\n",
    "#Validation Dataset\n",
    "XTest = dfRaw1[dfRaw1['Date'] >= '2015-06-19']\n",
    "yTest = XTest['Sales']\n",
    "XTst = XTest[toKeep]"
   ]
  },
  {
   "cell_type": "markdown",
   "metadata": {},
   "source": [
    "# HYPERPARAMETER FINE TUNING >> XGBoost Regressor"
   ]
  },
  {
   "cell_type": "code",
   "execution_count": 8,
   "metadata": {},
   "outputs": [],
   "source": [
    "#Training Dataset\n",
    "XTraining = XTrain[toKeepBoruta]"
   ]
  },
  {
   "cell_type": "code",
   "execution_count": 9,
   "metadata": {},
   "outputs": [],
   "source": [
    "param = {\n",
    "   'n_estimators': [1500, 1700, 2500, 3000, 3500],\n",
    "   'eta': [0.01, 0.03],\n",
    "   'max_depth': [3, 5, 9],\n",
    "   'subsample': [0.1, 0.5, 0.7],\n",
    "   'colsample_bytree': [0.3, 0.7, 0.9],\n",
    "   'min_child_weight': [3, 8, 15]\n",
    "       }\n",
    "\n",
    "MAX_EVAL = 5"
   ]
  },
  {
   "cell_type": "code",
   "execution_count": 12,
   "metadata": {},
   "outputs": [
    {
     "name": "stdout",
     "output_type": "stream",
     "text": [
      "{'n_estimators': 3000, 'eta': 0.01, 'max_depth': 5, 'subsample': 0.5, 'colsample_bytree': 0.3, 'min_child_weight': 8}\n",
      "\n",
      "KFold Number: 5\n",
      "\n",
      "KFold Number: 4\n",
      "\n",
      "KFold Number: 3\n",
      "\n",
      "KFold Number: 2\n",
      "\n",
      "KFold Number: 1\n",
      "{'n_estimators': 1500, 'eta': 0.01, 'max_depth': 9, 'subsample': 0.1, 'colsample_bytree': 0.3, 'min_child_weight': 15}\n",
      "\n",
      "KFold Number: 5\n",
      "\n",
      "KFold Number: 4\n",
      "\n",
      "KFold Number: 3\n",
      "\n",
      "KFold Number: 2\n",
      "\n",
      "KFold Number: 1\n",
      "{'n_estimators': 2500, 'eta': 0.01, 'max_depth': 9, 'subsample': 0.1, 'colsample_bytree': 0.7, 'min_child_weight': 8}\n",
      "\n",
      "KFold Number: 5\n",
      "\n",
      "KFold Number: 4\n",
      "\n",
      "KFold Number: 3\n",
      "\n",
      "KFold Number: 2\n",
      "\n",
      "KFold Number: 1\n",
      "{'n_estimators': 1700, 'eta': 0.01, 'max_depth': 9, 'subsample': 0.7, 'colsample_bytree': 0.9, 'min_child_weight': 3}\n",
      "\n",
      "KFold Number: 5\n",
      "\n",
      "KFold Number: 4\n",
      "\n",
      "KFold Number: 3\n",
      "\n",
      "KFold Number: 2\n",
      "\n",
      "KFold Number: 1\n",
      "{'n_estimators': 2500, 'eta': 0.03, 'max_depth': 3, 'subsample': 0.5, 'colsample_bytree': 0.3, 'min_child_weight': 3}\n",
      "\n",
      "KFold Number: 5\n",
      "\n",
      "KFold Number: 4\n",
      "\n",
      "KFold Number: 3\n",
      "\n",
      "KFold Number: 2\n",
      "\n",
      "KFold Number: 1\n"
     ]
    },
    {
     "data": {
      "text/html": [
       "<div>\n",
       "<style scoped>\n",
       "    .dataframe tbody tr th:only-of-type {\n",
       "        vertical-align: middle;\n",
       "    }\n",
       "\n",
       "    .dataframe tbody tr th {\n",
       "        vertical-align: top;\n",
       "    }\n",
       "\n",
       "    .dataframe thead th {\n",
       "        text-align: right;\n",
       "    }\n",
       "</style>\n",
       "<table border=\"1\" class=\"dataframe\">\n",
       "  <thead>\n",
       "    <tr style=\"text-align: right;\">\n",
       "      <th></th>\n",
       "      <th>Model Name</th>\n",
       "      <th>MAE CV</th>\n",
       "      <th>MAPE CV</th>\n",
       "      <th>RMSE CV</th>\n",
       "    </tr>\n",
       "  </thead>\n",
       "  <tbody>\n",
       "    <tr>\n",
       "      <th>0</th>\n",
       "      <td>XGBoost Regressor</td>\n",
       "      <td>1356.26 +/- 134.47</td>\n",
       "      <td>0.19 +/- 0.01</td>\n",
       "      <td>1963.84 +/- 183.6</td>\n",
       "    </tr>\n",
       "    <tr>\n",
       "      <th>0</th>\n",
       "      <td>XGBoost Regressor</td>\n",
       "      <td>1114.55 +/- 142.2</td>\n",
       "      <td>0.15 +/- 0.01</td>\n",
       "      <td>1614.75 +/- 195.48</td>\n",
       "    </tr>\n",
       "    <tr>\n",
       "      <th>0</th>\n",
       "      <td>XGBoost Regressor</td>\n",
       "      <td>865.62 +/- 132.38</td>\n",
       "      <td>0.12 +/- 0.01</td>\n",
       "      <td>1250.39 +/- 186.03</td>\n",
       "    </tr>\n",
       "    <tr>\n",
       "      <th>0</th>\n",
       "      <td>XGBoost Regressor</td>\n",
       "      <td>940.86 +/- 155.41</td>\n",
       "      <td>0.13 +/- 0.02</td>\n",
       "      <td>1357.58 +/- 217.13</td>\n",
       "    </tr>\n",
       "    <tr>\n",
       "      <th>0</th>\n",
       "      <td>XGBoost Regressor</td>\n",
       "      <td>1476.83 +/- 146.06</td>\n",
       "      <td>0.2 +/- 0.01</td>\n",
       "      <td>2135.1 +/- 183.15</td>\n",
       "    </tr>\n",
       "  </tbody>\n",
       "</table>\n",
       "</div>"
      ],
      "text/plain": [
       "          Model Name              MAE CV        MAPE CV             RMSE CV\n",
       "0  XGBoost Regressor  1356.26 +/- 134.47  0.19 +/- 0.01   1963.84 +/- 183.6\n",
       "0  XGBoost Regressor   1114.55 +/- 142.2  0.15 +/- 0.01  1614.75 +/- 195.48\n",
       "0  XGBoost Regressor   865.62 +/- 132.38  0.12 +/- 0.01  1250.39 +/- 186.03\n",
       "0  XGBoost Regressor   940.86 +/- 155.41  0.13 +/- 0.02  1357.58 +/- 217.13\n",
       "0  XGBoost Regressor  1476.83 +/- 146.06   0.2 +/- 0.01   2135.1 +/- 183.15"
      ]
     },
     "execution_count": 12,
     "metadata": {},
     "output_type": "execute_result"
    }
   ],
   "source": [
    "finalResult = pd.DataFrame()\n",
    "\n",
    "for i in range( MAX_EVAL ):\n",
    "    # choose values for parameters randomly\n",
    "    hp = { k: random.sample( v, 1 )[0] for k, v in param.items() }\n",
    "    print(hp)\n",
    "\n",
    "    # model\n",
    "    modelXGBR = xgb.XGBRegressor( objective='reg:squarederror',\n",
    "                                 n_estimators=hp['n_estimators'], \n",
    "                                 eta=hp['eta'], \n",
    "                                 max_depth=hp['max_depth'], \n",
    "                                 subsample=hp['subsample'],\n",
    "                                 colsample_bytree=hp['colsample_bytree'],\n",
    "                                 min_child_weight=hp['min_child_weight'])\n",
    "\n",
    "    # performance\n",
    "    result = crossValidation( XTraining, 5, 'XGBoost Regressor', modelXGBR, verbose=True )\n",
    "    finalResult = pd.concat( [finalResult, result] )\n",
    "\n",
    "finalResult"
   ]
  },
  {
   "cell_type": "markdown",
   "metadata": {},
   "source": [
    "## XGBoost Regressor - Final Model"
   ]
  },
  {
   "cell_type": "code",
   "execution_count": 19,
   "metadata": {},
   "outputs": [],
   "source": [
    "paramTuned = {\n",
    "                'n_estimators': 2500,\n",
    "                'eta': 0.01,\n",
    "                'max_depth': 9,\n",
    "                'subsample': 0.1,\n",
    "                'colsample_bytree': 0.7,\n",
    "                'min_child_weight': 8\n",
    "            }"
   ]
  },
  {
   "cell_type": "code",
   "execution_count": 20,
   "metadata": {},
   "outputs": [
    {
     "data": {
      "text/html": [
       "<div>\n",
       "<style scoped>\n",
       "    .dataframe tbody tr th:only-of-type {\n",
       "        vertical-align: middle;\n",
       "    }\n",
       "\n",
       "    .dataframe tbody tr th {\n",
       "        vertical-align: top;\n",
       "    }\n",
       "\n",
       "    .dataframe thead th {\n",
       "        text-align: right;\n",
       "    }\n",
       "</style>\n",
       "<table border=\"1\" class=\"dataframe\">\n",
       "  <thead>\n",
       "    <tr style=\"text-align: right;\">\n",
       "      <th></th>\n",
       "      <th>ModelName</th>\n",
       "      <th>MAE</th>\n",
       "      <th>MAPE</th>\n",
       "      <th>RMSE</th>\n",
       "    </tr>\n",
       "  </thead>\n",
       "  <tbody>\n",
       "    <tr>\n",
       "      <th>0</th>\n",
       "      <td>XGBoost Regressor</td>\n",
       "      <td>707.660028</td>\n",
       "      <td>0.104832</td>\n",
       "      <td>1028.902781</td>\n",
       "    </tr>\n",
       "  </tbody>\n",
       "</table>\n",
       "</div>"
      ],
      "text/plain": [
       "           ModelName         MAE      MAPE         RMSE\n",
       "0  XGBoost Regressor  707.660028  0.104832  1028.902781"
      ]
     },
     "execution_count": 20,
     "metadata": {},
     "output_type": "execute_result"
    }
   ],
   "source": [
    "# model\n",
    "modelXGBRTuned = xgb.XGBRegressor(objective='reg:squarederror',\n",
    "                                    n_estimators=paramTuned['n_estimators'], \n",
    "                                    eta=paramTuned['eta'], \n",
    "                                    max_depth=paramTuned['max_depth'], \n",
    "                                    subsample=paramTuned['subsample'],\n",
    "                                    colsample_bytree=paramTuned['colsample_bytree'],\n",
    "                                    min_child_weight=paramTuned['min_child_weight'])\n",
    "\n",
    "modelXGBRTuned.fit(XTr, yTrain)\n",
    "\n",
    "# prediction\n",
    "yhatXGBTuned = modelXGBRTuned.predict(XTst)\n",
    "\n",
    "# performance\n",
    "modelXGBRTunedResult = mlError( 'XGBoost Regressor', np.expm1(yTest), np.expm1(yhatXGBTuned))\n",
    "modelXGBRTunedResult"
   ]
  },
  {
   "cell_type": "code",
   "execution_count": 21,
   "metadata": {},
   "outputs": [
    {
     "data": {
      "text/plain": [
       "-0.010042328141377704"
      ]
     },
     "execution_count": 21,
     "metadata": {},
     "output_type": "execute_result"
    }
   ],
   "source": [
    "mpe = mean_percentage_error(np.expm1(yTest), np.expm1( yhatXGBTuned))\n",
    "mpe"
   ]
  },
  {
   "cell_type": "markdown",
   "metadata": {},
   "source": [
    "# Convert to .csv"
   ]
  },
  {
   "cell_type": "code",
   "execution_count": 23,
   "metadata": {},
   "outputs": [],
   "source": [
    "dfFinalModel = XTest[toKeepBoruta]\n",
    "\n",
    "# rescale\n",
    "dfFinalModel['Sales'] = np.expm1(dfFinalModel['Sales'])\n",
    "dfFinalModel['Predictions'] = np.expm1(yhatXGBTuned)"
   ]
  },
  {
   "cell_type": "code",
   "execution_count": 24,
   "metadata": {},
   "outputs": [],
   "source": [
    "dfFinalModel.to_csv('../../01-Data/Results/01-FirstRoundCRISP/dfFinalModel.csv', index=False)"
   ]
  },
  {
   "cell_type": "markdown",
   "metadata": {},
   "source": [
    "# Save Trained Model"
   ]
  },
  {
   "cell_type": "code",
   "execution_count": 28,
   "metadata": {},
   "outputs": [],
   "source": [
    "pickle.dump(modelXGBRTuned, open('D:/01-DataScience/04-Projetos/00-Git/Rossmann-Store-Sales/02-Notebooks/01-FirstRoundCRISP/model/modelRossmann.pkl', 'wb' ))"
   ]
  }
 ],
 "metadata": {
  "kernelspec": {
   "display_name": "Python 3",
   "language": "python",
   "name": "python3"
  },
  "language_info": {
   "codemirror_mode": {
    "name": "ipython",
    "version": 3
   },
   "file_extension": ".py",
   "mimetype": "text/x-python",
   "name": "python",
   "nbconvert_exporter": "python",
   "pygments_lexer": "ipython3",
   "version": "3.8.5"
  },
  "toc": {
   "base_numbering": 1,
   "nav_menu": {},
   "number_sections": true,
   "sideBar": true,
   "skip_h1_title": false,
   "title_cell": "Table of Contents",
   "title_sidebar": "Contents",
   "toc_cell": false,
   "toc_position": {},
   "toc_section_display": true,
   "toc_window_display": false
  },
  "toc-autonumbering": true
 },
 "nbformat": 4,
 "nbformat_minor": 4
}
