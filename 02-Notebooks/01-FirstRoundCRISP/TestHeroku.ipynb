{
 "cells": [
  {
   "cell_type": "markdown",
   "metadata": {},
   "source": [
    "# IMPORTS"
   ]
  },
  {
   "cell_type": "markdown",
   "metadata": {},
   "source": [
    "## Libraries"
   ]
  },
  {
   "cell_type": "code",
   "execution_count": 1,
   "metadata": {},
   "outputs": [],
   "source": [
    "import pandas as pd\n",
    "import numpy as np\n",
    "#import random\n",
    "import datetime\n",
    "#import pickle\n",
    "import json\n",
    "import requests\n",
    "\n",
    "# import warnings\n",
    "# warnings.filterwarnings(\"ignore\")\n",
    "\n",
    "# import seaborn as sns\n",
    "# import matplotlib.pyplot as plt\n",
    "# from IPython.core.display import HTML\n",
    "\n",
    "# from sklearn.preprocessing import RobustScaler, MinMaxScaler, LabelEncoder\n",
    "# from sklearn.ensemble import RandomForestRegressor\n",
    "# from sklearn.metrics import mean_absolute_error, mean_squared_error\n",
    "# from sklearn.linear_model import LinearRegression, Lasso\n",
    "\n",
    "# import xgboost as xgb\n",
    "# from lightgbm import LGBMRegressor"
   ]
  },
  {
   "cell_type": "markdown",
   "metadata": {},
   "source": [
    "# API Test >> HEROKU"
   ]
  },
  {
   "cell_type": "code",
   "execution_count": 2,
   "metadata": {},
   "outputs": [],
   "source": [
    "#salesRaw = pd.read_csv('../../01-Data/train.csv', low_memory=False)\n",
    "storeRaw = pd.read_csv('../../01-Data/store.csv', low_memory=False)\n",
    "testRaw = pd.read_csv('../../01-Data/test.csv', low_memory=False)"
   ]
  },
  {
   "cell_type": "code",
   "execution_count": 32,
   "metadata": {},
   "outputs": [],
   "source": [
    "storeList = [30, 14, 23]\n",
    "\n",
    "# Merge Test dataset + Store\n",
    "dfTest = pd.merge(testRaw, storeRaw, how='left', on='Store')\n",
    "\n",
    "# Choose Store for Prediction\n",
    "dfTest = dfTest[dfTest['Store'].isin(storeList)]\n",
    "\n",
    "# Remove Closed Days\n",
    "dfTest = dfTest[dfTest['Open'] != 0]\n",
    "dfTest = dfTest[~dfTest['Open'].isnull()]\n",
    "dfTest = dfTest.drop('Id', axis=1)"
   ]
  },
  {
   "cell_type": "code",
   "execution_count": 33,
   "metadata": {},
   "outputs": [],
   "source": [
    "# Convert DataFrame to JSON\n",
    "data = json.dumps(dfTest.to_dict(orient='records'))"
   ]
  },
  {
   "cell_type": "code",
   "execution_count": 34,
   "metadata": {},
   "outputs": [
    {
     "name": "stdout",
     "output_type": "stream",
     "text": [
      "Status Code 200\n"
     ]
    }
   ],
   "source": [
    "## API Call\n",
    "# url = 'http://127.0.0.1:5000/rossmann/predict'\n",
    "url = 'https://model-rossmann.herokuapp.com/rossmann/predict'\n",
    "header = {'Content-Type': 'application/json'}\n",
    "data = data\n",
    "\n",
    "r = requests.post(url, data=data, headers=header)\n",
    "print('Status Code {}'.format(r.status_code))"
   ]
  },
  {
   "cell_type": "code",
   "execution_count": 35,
   "metadata": {},
   "outputs": [],
   "source": [
    "dfResponse = pd.DataFrame(r.json(), columns=r.json()[0].keys())"
   ]
  },
  {
   "cell_type": "code",
   "execution_count": 36,
   "metadata": {},
   "outputs": [
    {
     "data": {
      "text/html": [
       "<div>\n",
       "<style scoped>\n",
       "    .dataframe tbody tr th:only-of-type {\n",
       "        vertical-align: middle;\n",
       "    }\n",
       "\n",
       "    .dataframe tbody tr th {\n",
       "        vertical-align: top;\n",
       "    }\n",
       "\n",
       "    .dataframe thead th {\n",
       "        text-align: right;\n",
       "    }\n",
       "</style>\n",
       "<table border=\"1\" class=\"dataframe\">\n",
       "  <thead>\n",
       "    <tr style=\"text-align: right;\">\n",
       "      <th></th>\n",
       "      <th>Store</th>\n",
       "      <th>DayOfWeek</th>\n",
       "      <th>Date</th>\n",
       "      <th>Open</th>\n",
       "      <th>Promo</th>\n",
       "      <th>StateHoliday</th>\n",
       "      <th>SchoolHoliday</th>\n",
       "      <th>StoreType</th>\n",
       "      <th>Assortment</th>\n",
       "      <th>CompetitionDistance</th>\n",
       "      <th>...</th>\n",
       "      <th>Year</th>\n",
       "      <th>Month</th>\n",
       "      <th>Day</th>\n",
       "      <th>WeekOfYear</th>\n",
       "      <th>YearWeek</th>\n",
       "      <th>CompetionSinse</th>\n",
       "      <th>CompetionTimeMonth</th>\n",
       "      <th>PromoSince</th>\n",
       "      <th>PromoTimeWeek</th>\n",
       "      <th>Prediction</th>\n",
       "    </tr>\n",
       "  </thead>\n",
       "  <tbody>\n",
       "    <tr>\n",
       "      <th>0</th>\n",
       "      <td>14</td>\n",
       "      <td>4</td>\n",
       "      <td>2015-09-17T00:00:00.000Z</td>\n",
       "      <td>1.0</td>\n",
       "      <td>1</td>\n",
       "      <td>Regular Day</td>\n",
       "      <td>0</td>\n",
       "      <td>a</td>\n",
       "      <td>basic</td>\n",
       "      <td>1300.0</td>\n",
       "      <td>...</td>\n",
       "      <td>2015</td>\n",
       "      <td>9</td>\n",
       "      <td>17</td>\n",
       "      <td>38</td>\n",
       "      <td>2015-37</td>\n",
       "      <td>2014-03-01T00:00:00.000Z</td>\n",
       "      <td>18</td>\n",
       "      <td>2011-09-26T00:00:00.000Z</td>\n",
       "      <td>207</td>\n",
       "      <td>6386.439453</td>\n",
       "    </tr>\n",
       "    <tr>\n",
       "      <th>1</th>\n",
       "      <td>23</td>\n",
       "      <td>4</td>\n",
       "      <td>2015-09-17T00:00:00.000Z</td>\n",
       "      <td>1.0</td>\n",
       "      <td>1</td>\n",
       "      <td>Regular Day</td>\n",
       "      <td>0</td>\n",
       "      <td>d</td>\n",
       "      <td>basic</td>\n",
       "      <td>4060.0</td>\n",
       "      <td>...</td>\n",
       "      <td>2015</td>\n",
       "      <td>9</td>\n",
       "      <td>17</td>\n",
       "      <td>38</td>\n",
       "      <td>2015-37</td>\n",
       "      <td>2005-08-01T00:00:00.000Z</td>\n",
       "      <td>123</td>\n",
       "      <td>2015-09-14T00:00:00.000Z</td>\n",
       "      <td>0</td>\n",
       "      <td>7098.622559</td>\n",
       "    </tr>\n",
       "    <tr>\n",
       "      <th>2</th>\n",
       "      <td>30</td>\n",
       "      <td>4</td>\n",
       "      <td>2015-09-17T00:00:00.000Z</td>\n",
       "      <td>1.0</td>\n",
       "      <td>1</td>\n",
       "      <td>Regular Day</td>\n",
       "      <td>0</td>\n",
       "      <td>a</td>\n",
       "      <td>basic</td>\n",
       "      <td>40.0</td>\n",
       "      <td>...</td>\n",
       "      <td>2015</td>\n",
       "      <td>9</td>\n",
       "      <td>17</td>\n",
       "      <td>38</td>\n",
       "      <td>2015-37</td>\n",
       "      <td>2014-02-01T00:00:00.000Z</td>\n",
       "      <td>19</td>\n",
       "      <td>2014-03-03T00:00:00.000Z</td>\n",
       "      <td>80</td>\n",
       "      <td>5164.730469</td>\n",
       "    </tr>\n",
       "    <tr>\n",
       "      <th>3</th>\n",
       "      <td>14</td>\n",
       "      <td>3</td>\n",
       "      <td>2015-09-16T00:00:00.000Z</td>\n",
       "      <td>1.0</td>\n",
       "      <td>1</td>\n",
       "      <td>Regular Day</td>\n",
       "      <td>0</td>\n",
       "      <td>a</td>\n",
       "      <td>basic</td>\n",
       "      <td>1300.0</td>\n",
       "      <td>...</td>\n",
       "      <td>2015</td>\n",
       "      <td>9</td>\n",
       "      <td>16</td>\n",
       "      <td>38</td>\n",
       "      <td>2015-37</td>\n",
       "      <td>2014-03-01T00:00:00.000Z</td>\n",
       "      <td>18</td>\n",
       "      <td>2011-09-26T00:00:00.000Z</td>\n",
       "      <td>207</td>\n",
       "      <td>6444.190918</td>\n",
       "    </tr>\n",
       "    <tr>\n",
       "      <th>4</th>\n",
       "      <td>23</td>\n",
       "      <td>3</td>\n",
       "      <td>2015-09-16T00:00:00.000Z</td>\n",
       "      <td>1.0</td>\n",
       "      <td>1</td>\n",
       "      <td>Regular Day</td>\n",
       "      <td>0</td>\n",
       "      <td>d</td>\n",
       "      <td>basic</td>\n",
       "      <td>4060.0</td>\n",
       "      <td>...</td>\n",
       "      <td>2015</td>\n",
       "      <td>9</td>\n",
       "      <td>16</td>\n",
       "      <td>38</td>\n",
       "      <td>2015-37</td>\n",
       "      <td>2005-08-01T00:00:00.000Z</td>\n",
       "      <td>123</td>\n",
       "      <td>2015-09-14T00:00:00.000Z</td>\n",
       "      <td>0</td>\n",
       "      <td>7195.125977</td>\n",
       "    </tr>\n",
       "  </tbody>\n",
       "</table>\n",
       "<p>5 rows × 28 columns</p>\n",
       "</div>"
      ],
      "text/plain": [
       "   Store  DayOfWeek                      Date  Open  Promo StateHoliday  \\\n",
       "0     14          4  2015-09-17T00:00:00.000Z   1.0      1  Regular Day   \n",
       "1     23          4  2015-09-17T00:00:00.000Z   1.0      1  Regular Day   \n",
       "2     30          4  2015-09-17T00:00:00.000Z   1.0      1  Regular Day   \n",
       "3     14          3  2015-09-16T00:00:00.000Z   1.0      1  Regular Day   \n",
       "4     23          3  2015-09-16T00:00:00.000Z   1.0      1  Regular Day   \n",
       "\n",
       "   SchoolHoliday StoreType Assortment  CompetitionDistance  ...  Year  Month  \\\n",
       "0              0         a      basic               1300.0  ...  2015      9   \n",
       "1              0         d      basic               4060.0  ...  2015      9   \n",
       "2              0         a      basic                 40.0  ...  2015      9   \n",
       "3              0         a      basic               1300.0  ...  2015      9   \n",
       "4              0         d      basic               4060.0  ...  2015      9   \n",
       "\n",
       "   Day  WeekOfYear  YearWeek            CompetionSinse CompetionTimeMonth  \\\n",
       "0   17          38   2015-37  2014-03-01T00:00:00.000Z                 18   \n",
       "1   17          38   2015-37  2005-08-01T00:00:00.000Z                123   \n",
       "2   17          38   2015-37  2014-02-01T00:00:00.000Z                 19   \n",
       "3   16          38   2015-37  2014-03-01T00:00:00.000Z                 18   \n",
       "4   16          38   2015-37  2005-08-01T00:00:00.000Z                123   \n",
       "\n",
       "                 PromoSince  PromoTimeWeek   Prediction  \n",
       "0  2011-09-26T00:00:00.000Z            207  6386.439453  \n",
       "1  2015-09-14T00:00:00.000Z              0  7098.622559  \n",
       "2  2014-03-03T00:00:00.000Z             80  5164.730469  \n",
       "3  2011-09-26T00:00:00.000Z            207  6444.190918  \n",
       "4  2015-09-14T00:00:00.000Z              0  7195.125977  \n",
       "\n",
       "[5 rows x 28 columns]"
      ]
     },
     "execution_count": 36,
     "metadata": {},
     "output_type": "execute_result"
    }
   ],
   "source": [
    "dfResponse.head()"
   ]
  },
  {
   "cell_type": "code",
   "execution_count": 37,
   "metadata": {},
   "outputs": [
    {
     "data": {
      "text/html": [
       "<div>\n",
       "<style scoped>\n",
       "    .dataframe tbody tr th:only-of-type {\n",
       "        vertical-align: middle;\n",
       "    }\n",
       "\n",
       "    .dataframe tbody tr th {\n",
       "        vertical-align: top;\n",
       "    }\n",
       "\n",
       "    .dataframe thead th {\n",
       "        text-align: right;\n",
       "    }\n",
       "</style>\n",
       "<table border=\"1\" class=\"dataframe\">\n",
       "  <thead>\n",
       "    <tr style=\"text-align: right;\">\n",
       "      <th></th>\n",
       "      <th>Store</th>\n",
       "      <th>Prediction</th>\n",
       "    </tr>\n",
       "  </thead>\n",
       "  <tbody>\n",
       "    <tr>\n",
       "      <th>0</th>\n",
       "      <td>14</td>\n",
       "      <td>240417.760742</td>\n",
       "    </tr>\n",
       "    <tr>\n",
       "      <th>1</th>\n",
       "      <td>23</td>\n",
       "      <td>274111.687500</td>\n",
       "    </tr>\n",
       "    <tr>\n",
       "      <th>2</th>\n",
       "      <td>30</td>\n",
       "      <td>203692.620117</td>\n",
       "    </tr>\n",
       "  </tbody>\n",
       "</table>\n",
       "</div>"
      ],
      "text/plain": [
       "   Store     Prediction\n",
       "0     14  240417.760742\n",
       "1     23  274111.687500\n",
       "2     30  203692.620117"
      ]
     },
     "execution_count": 37,
     "metadata": {},
     "output_type": "execute_result"
    }
   ],
   "source": [
    "dfResponse2 = dfResponse[['Store', 'Prediction']].groupby('Store').sum().reset_index()\n",
    "dfResponse2"
   ]
  },
  {
   "cell_type": "code",
   "execution_count": 38,
   "metadata": {},
   "outputs": [
    {
     "name": "stdout",
     "output_type": "stream",
     "text": [
      "Store Number 14 will sell R$240,417.76 in the next 6 weeks\n",
      "Store Number 23 will sell R$274,111.69 in the next 6 weeks\n",
      "Store Number 30 will sell R$203,692.62 in the next 6 weeks\n"
     ]
    }
   ],
   "source": [
    "dfResponse2 = dfResponse[['Store', 'Prediction']].groupby('Store').sum().reset_index()\n",
    "\n",
    "for i in range(len(dfResponse2)):\n",
    "    print('Store Number {} will sell R${:,.2f} in the next 6 weeks'.format(\n",
    "            dfResponse2.loc[i, 'Store'],\n",
    "             dfResponse2.loc[i, 'Prediction']))"
   ]
  },
  {
   "cell_type": "code",
   "execution_count": 30,
   "metadata": {},
   "outputs": [
    {
     "data": {
      "text/plain": [
       "'[{\"Store\": 14, \"DayOfWeek\": 4, \"Date\": \"2015-09-17\", \"Open\": 1.0, \"Promo\": 1, \"StateHoliday\": \"0\", \"SchoolHoliday\": 0, \"StoreType\": \"a\", \"Assortment\": \"a\", \"CompetitionDistance\": 1300.0, \"CompetitionOpenSinceMonth\": 3.0, \"CompetitionOpenSinceYear\": 2014.0, \"Promo2\": 1, \"Promo2SinceWeek\": 40.0, \"Promo2SinceYear\": 2011.0, \"PromoInterval\": \"Jan,Apr,Jul,Oct\"}, {\"Store\": 23, \"DayOfWeek\": 4, \"Date\": \"2015-09-17\", \"Open\": 1.0, \"Promo\": 1, \"StateHoliday\": \"0\", \"SchoolHoliday\": 0, \"StoreType\": \"d\", \"Assortment\": \"a\", \"CompetitionDistance\": 4060.0, \"CompetitionOpenSinceMonth\": 8.0, \"CompetitionOpenSinceYear\": 2005.0, \"Promo2\": 0, \"Promo2SinceWeek\": NaN, \"Promo2SinceYear\": NaN, \"PromoInterval\": NaN}, {\"Store\": 30, \"DayOfWeek\": 4, \"Date\": \"2015-09-17\", \"Open\": 1.0, \"Promo\": 1, \"StateHoliday\": \"0\", \"SchoolHoliday\": 0, \"StoreType\": \"a\", \"Assortment\": \"a\", \"CompetitionDistance\": 40.0, \"CompetitionOpenSinceMonth\": 2.0, \"CompetitionOpenSinceYear\": 2014.0, \"Promo2\": 1, \"Promo2SinceWeek\": 10.0, \"Promo2SinceYear\": 2014.0, \"PromoInterval\": \"Mar,Jun,Sept,Dec\"}, {\"Store\": 14, \"DayOfWeek\": 3, \"Date\": \"2015-09-16\", \"Open\": 1.0, \"Promo\": 1, \"StateHoliday\": \"0\", \"SchoolHoliday\": 0, \"StoreType\": \"a\", \"Assortment\": \"a\", \"CompetitionDistance\": 1300.0, \"CompetitionOpenSinceMonth\": 3.0, \"CompetitionOpenSinceYear\": 2014.0, \"Promo2\": 1, \"Promo2SinceWeek\": 40.0, \"Promo2SinceYear\": 2011.0, \"PromoInterval\": \"Jan,Apr,Jul,Oct\"}, {\"Store\": 23, \"DayOfWeek\": 3, \"Date\": \"2015-09-16\", \"Open\": 1.0, \"Promo\": 1, \"StateHoliday\": \"0\", \"SchoolHoliday\": 0, \"StoreType\": \"d\", \"Assortment\": \"a\", \"CompetitionDistance\": 4060.0, \"CompetitionOpenSinceMonth\": 8.0, \"CompetitionOpenSinceYear\": 2005.0, \"Promo2\": 0, \"Promo2SinceWeek\": NaN, \"Promo2SinceYear\": NaN, \"PromoInterval\": NaN}, {\"Store\": 30, \"DayOfWeek\": 3, \"Date\": \"2015-09-16\", \"Open\": 1.0, \"Promo\": 1, \"StateHoliday\": \"0\", \"SchoolHoliday\": 0, \"StoreType\": \"a\", \"Assortment\": \"a\", \"CompetitionDistance\": 40.0, \"CompetitionOpenSinceMonth\": 2.0, \"CompetitionOpenSinceYear\": 2014.0, \"Promo2\": 1, \"Promo2SinceWeek\": 10.0, \"Promo2SinceYear\": 2014.0, \"PromoInterval\": \"Mar,Jun,Sept,Dec\"}, {\"Store\": 14, \"DayOfWeek\": 2, \"Date\": \"2015-09-15\", \"Open\": 1.0, \"Promo\": 1, \"StateHoliday\": \"0\", \"SchoolHoliday\": 0, \"StoreType\": \"a\", \"Assortment\": \"a\", \"CompetitionDistance\": 1300.0, \"CompetitionOpenSinceMonth\": 3.0, \"CompetitionOpenSinceYear\": 2014.0, \"Promo2\": 1, \"Promo2SinceWeek\": 40.0, \"Promo2SinceYear\": 2011.0, \"PromoInterval\": \"Jan,Apr,Jul,Oct\"}, {\"Store\": 23, \"DayOfWeek\": 2, \"Date\": \"2015-09-15\", \"Open\": 1.0, \"Promo\": 1, \"StateHoliday\": \"0\", \"SchoolHoliday\": 0, \"StoreType\": \"d\", \"Assortment\": \"a\", \"CompetitionDistance\": 4060.0, \"CompetitionOpenSinceMonth\": 8.0, \"CompetitionOpenSinceYear\": 2005.0, \"Promo2\": 0, \"Promo2SinceWeek\": NaN, \"Promo2SinceYear\": NaN, \"PromoInterval\": NaN}, {\"Store\": 30, \"DayOfWeek\": 2, \"Date\": \"2015-09-15\", \"Open\": 1.0, \"Promo\": 1, \"StateHoliday\": \"0\", \"SchoolHoliday\": 0, \"StoreType\": \"a\", \"Assortment\": \"a\", \"CompetitionDistance\": 40.0, \"CompetitionOpenSinceMonth\": 2.0, \"CompetitionOpenSinceYear\": 2014.0, \"Promo2\": 1, \"Promo2SinceWeek\": 10.0, \"Promo2SinceYear\": 2014.0, \"PromoInterval\": \"Mar,Jun,Sept,Dec\"}, {\"Store\": 14, \"DayOfWeek\": 1, \"Date\": \"2015-09-14\", \"Open\": 1.0, \"Promo\": 1, \"StateHoliday\": \"0\", \"SchoolHoliday\": 0, \"StoreType\": \"a\", \"Assortment\": \"a\", \"CompetitionDistance\": 1300.0, \"CompetitionOpenSinceMonth\": 3.0, \"CompetitionOpenSinceYear\": 2014.0, \"Promo2\": 1, \"Promo2SinceWeek\": 40.0, \"Promo2SinceYear\": 2011.0, \"PromoInterval\": \"Jan,Apr,Jul,Oct\"}, {\"Store\": 23, \"DayOfWeek\": 1, \"Date\": \"2015-09-14\", \"Open\": 1.0, \"Promo\": 1, \"StateHoliday\": \"0\", \"SchoolHoliday\": 0, \"StoreType\": \"d\", \"Assortment\": \"a\", \"CompetitionDistance\": 4060.0, \"CompetitionOpenSinceMonth\": 8.0, \"CompetitionOpenSinceYear\": 2005.0, \"Promo2\": 0, \"Promo2SinceWeek\": NaN, \"Promo2SinceYear\": NaN, \"PromoInterval\": NaN}, {\"Store\": 30, \"DayOfWeek\": 1, \"Date\": \"2015-09-14\", \"Open\": 1.0, \"Promo\": 1, \"StateHoliday\": \"0\", \"SchoolHoliday\": 0, \"StoreType\": \"a\", \"Assortment\": \"a\", \"CompetitionDistance\": 40.0, \"CompetitionOpenSinceMonth\": 2.0, \"CompetitionOpenSinceYear\": 2014.0, \"Promo2\": 1, \"Promo2SinceWeek\": 10.0, \"Promo2SinceYear\": 2014.0, \"PromoInterval\": \"Mar,Jun,Sept,Dec\"}, {\"Store\": 14, \"DayOfWeek\": 6, \"Date\": \"2015-09-12\", \"Open\": 1.0, \"Promo\": 0, \"StateHoliday\": \"0\", \"SchoolHoliday\": 0, \"StoreType\": \"a\", \"Assortment\": \"a\", \"CompetitionDistance\": 1300.0, \"CompetitionOpenSinceMonth\": 3.0, \"CompetitionOpenSinceYear\": 2014.0, \"Promo2\": 1, \"Promo2SinceWeek\": 40.0, \"Promo2SinceYear\": 2011.0, \"PromoInterval\": \"Jan,Apr,Jul,Oct\"}, {\"Store\": 23, \"DayOfWeek\": 6, \"Date\": \"2015-09-12\", \"Open\": 1.0, \"Promo\": 0, \"StateHoliday\": \"0\", \"SchoolHoliday\": 0, \"StoreType\": \"d\", \"Assortment\": \"a\", \"CompetitionDistance\": 4060.0, \"CompetitionOpenSinceMonth\": 8.0, \"CompetitionOpenSinceYear\": 2005.0, \"Promo2\": 0, \"Promo2SinceWeek\": NaN, \"Promo2SinceYear\": NaN, \"PromoInterval\": NaN}, {\"Store\": 30, \"DayOfWeek\": 6, \"Date\": \"2015-09-12\", \"Open\": 1.0, \"Promo\": 0, \"StateHoliday\": \"0\", \"SchoolHoliday\": 0, \"StoreType\": \"a\", \"Assortment\": \"a\", \"CompetitionDistance\": 40.0, \"CompetitionOpenSinceMonth\": 2.0, \"CompetitionOpenSinceYear\": 2014.0, \"Promo2\": 1, \"Promo2SinceWeek\": 10.0, \"Promo2SinceYear\": 2014.0, \"PromoInterval\": \"Mar,Jun,Sept,Dec\"}, {\"Store\": 14, \"DayOfWeek\": 5, \"Date\": \"2015-09-11\", \"Open\": 1.0, \"Promo\": 0, \"StateHoliday\": \"0\", \"SchoolHoliday\": 0, \"StoreType\": \"a\", \"Assortment\": \"a\", \"CompetitionDistance\": 1300.0, \"CompetitionOpenSinceMonth\": 3.0, \"CompetitionOpenSinceYear\": 2014.0, \"Promo2\": 1, \"Promo2SinceWeek\": 40.0, \"Promo2SinceYear\": 2011.0, \"PromoInterval\": \"Jan,Apr,Jul,Oct\"}, {\"Store\": 23, \"DayOfWeek\": 5, \"Date\": \"2015-09-11\", \"Open\": 1.0, \"Promo\": 0, \"StateHoliday\": \"0\", \"SchoolHoliday\": 0, \"StoreType\": \"d\", \"Assortment\": \"a\", \"CompetitionDistance\": 4060.0, \"CompetitionOpenSinceMonth\": 8.0, \"CompetitionOpenSinceYear\": 2005.0, \"Promo2\": 0, \"Promo2SinceWeek\": NaN, \"Promo2SinceYear\": NaN, \"PromoInterval\": NaN}, {\"Store\": 30, \"DayOfWeek\": 5, \"Date\": \"2015-09-11\", \"Open\": 1.0, \"Promo\": 0, \"StateHoliday\": \"0\", \"SchoolHoliday\": 0, \"StoreType\": \"a\", \"Assortment\": \"a\", \"CompetitionDistance\": 40.0, \"CompetitionOpenSinceMonth\": 2.0, \"CompetitionOpenSinceYear\": 2014.0, \"Promo2\": 1, \"Promo2SinceWeek\": 10.0, \"Promo2SinceYear\": 2014.0, \"PromoInterval\": \"Mar,Jun,Sept,Dec\"}, {\"Store\": 14, \"DayOfWeek\": 4, \"Date\": \"2015-09-10\", \"Open\": 1.0, \"Promo\": 0, \"StateHoliday\": \"0\", \"SchoolHoliday\": 0, \"StoreType\": \"a\", \"Assortment\": \"a\", \"CompetitionDistance\": 1300.0, \"CompetitionOpenSinceMonth\": 3.0, \"CompetitionOpenSinceYear\": 2014.0, \"Promo2\": 1, \"Promo2SinceWeek\": 40.0, \"Promo2SinceYear\": 2011.0, \"PromoInterval\": \"Jan,Apr,Jul,Oct\"}, {\"Store\": 23, \"DayOfWeek\": 4, \"Date\": \"2015-09-10\", \"Open\": 1.0, \"Promo\": 0, \"StateHoliday\": \"0\", \"SchoolHoliday\": 0, \"StoreType\": \"d\", \"Assortment\": \"a\", \"CompetitionDistance\": 4060.0, \"CompetitionOpenSinceMonth\": 8.0, \"CompetitionOpenSinceYear\": 2005.0, \"Promo2\": 0, \"Promo2SinceWeek\": NaN, \"Promo2SinceYear\": NaN, \"PromoInterval\": NaN}, {\"Store\": 30, \"DayOfWeek\": 4, \"Date\": \"2015-09-10\", \"Open\": 1.0, \"Promo\": 0, \"StateHoliday\": \"0\", \"SchoolHoliday\": 0, \"StoreType\": \"a\", \"Assortment\": \"a\", \"CompetitionDistance\": 40.0, \"CompetitionOpenSinceMonth\": 2.0, \"CompetitionOpenSinceYear\": 2014.0, \"Promo2\": 1, \"Promo2SinceWeek\": 10.0, \"Promo2SinceYear\": 2014.0, \"PromoInterval\": \"Mar,Jun,Sept,Dec\"}, {\"Store\": 14, \"DayOfWeek\": 3, \"Date\": \"2015-09-09\", \"Open\": 1.0, \"Promo\": 0, \"StateHoliday\": \"0\", \"SchoolHoliday\": 0, \"StoreType\": \"a\", \"Assortment\": \"a\", \"CompetitionDistance\": 1300.0, \"CompetitionOpenSinceMonth\": 3.0, \"CompetitionOpenSinceYear\": 2014.0, \"Promo2\": 1, \"Promo2SinceWeek\": 40.0, \"Promo2SinceYear\": 2011.0, \"PromoInterval\": \"Jan,Apr,Jul,Oct\"}, {\"Store\": 23, \"DayOfWeek\": 3, \"Date\": \"2015-09-09\", \"Open\": 1.0, \"Promo\": 0, \"StateHoliday\": \"0\", \"SchoolHoliday\": 0, \"StoreType\": \"d\", \"Assortment\": \"a\", \"CompetitionDistance\": 4060.0, \"CompetitionOpenSinceMonth\": 8.0, \"CompetitionOpenSinceYear\": 2005.0, \"Promo2\": 0, \"Promo2SinceWeek\": NaN, \"Promo2SinceYear\": NaN, \"PromoInterval\": NaN}, {\"Store\": 30, \"DayOfWeek\": 3, \"Date\": \"2015-09-09\", \"Open\": 1.0, \"Promo\": 0, \"StateHoliday\": \"0\", \"SchoolHoliday\": 0, \"StoreType\": \"a\", \"Assortment\": \"a\", \"CompetitionDistance\": 40.0, \"CompetitionOpenSinceMonth\": 2.0, \"CompetitionOpenSinceYear\": 2014.0, \"Promo2\": 1, \"Promo2SinceWeek\": 10.0, \"Promo2SinceYear\": 2014.0, \"PromoInterval\": \"Mar,Jun,Sept,Dec\"}, {\"Store\": 14, \"DayOfWeek\": 2, \"Date\": \"2015-09-08\", \"Open\": 1.0, \"Promo\": 0, \"StateHoliday\": \"0\", \"SchoolHoliday\": 0, \"StoreType\": \"a\", \"Assortment\": \"a\", \"CompetitionDistance\": 1300.0, \"CompetitionOpenSinceMonth\": 3.0, \"CompetitionOpenSinceYear\": 2014.0, \"Promo2\": 1, \"Promo2SinceWeek\": 40.0, \"Promo2SinceYear\": 2011.0, \"PromoInterval\": \"Jan,Apr,Jul,Oct\"}, {\"Store\": 23, \"DayOfWeek\": 2, \"Date\": \"2015-09-08\", \"Open\": 1.0, \"Promo\": 0, \"StateHoliday\": \"0\", \"SchoolHoliday\": 0, \"StoreType\": \"d\", \"Assortment\": \"a\", \"CompetitionDistance\": 4060.0, \"CompetitionOpenSinceMonth\": 8.0, \"CompetitionOpenSinceYear\": 2005.0, \"Promo2\": 0, \"Promo2SinceWeek\": NaN, \"Promo2SinceYear\": NaN, \"PromoInterval\": NaN}, {\"Store\": 30, \"DayOfWeek\": 2, \"Date\": \"2015-09-08\", \"Open\": 1.0, \"Promo\": 0, \"StateHoliday\": \"0\", \"SchoolHoliday\": 0, \"StoreType\": \"a\", \"Assortment\": \"a\", \"CompetitionDistance\": 40.0, \"CompetitionOpenSinceMonth\": 2.0, \"CompetitionOpenSinceYear\": 2014.0, \"Promo2\": 1, \"Promo2SinceWeek\": 10.0, \"Promo2SinceYear\": 2014.0, \"PromoInterval\": \"Mar,Jun,Sept,Dec\"}, {\"Store\": 14, \"DayOfWeek\": 1, \"Date\": \"2015-09-07\", \"Open\": 1.0, \"Promo\": 0, \"StateHoliday\": \"0\", \"SchoolHoliday\": 0, \"StoreType\": \"a\", \"Assortment\": \"a\", \"CompetitionDistance\": 1300.0, \"CompetitionOpenSinceMonth\": 3.0, \"CompetitionOpenSinceYear\": 2014.0, \"Promo2\": 1, \"Promo2SinceWeek\": 40.0, \"Promo2SinceYear\": 2011.0, \"PromoInterval\": \"Jan,Apr,Jul,Oct\"}, {\"Store\": 23, \"DayOfWeek\": 1, \"Date\": \"2015-09-07\", \"Open\": 1.0, \"Promo\": 0, \"StateHoliday\": \"0\", \"SchoolHoliday\": 0, \"StoreType\": \"d\", \"Assortment\": \"a\", \"CompetitionDistance\": 4060.0, \"CompetitionOpenSinceMonth\": 8.0, \"CompetitionOpenSinceYear\": 2005.0, \"Promo2\": 0, \"Promo2SinceWeek\": NaN, \"Promo2SinceYear\": NaN, \"PromoInterval\": NaN}, {\"Store\": 30, \"DayOfWeek\": 1, \"Date\": \"2015-09-07\", \"Open\": 1.0, \"Promo\": 0, \"StateHoliday\": \"0\", \"SchoolHoliday\": 0, \"StoreType\": \"a\", \"Assortment\": \"a\", \"CompetitionDistance\": 40.0, \"CompetitionOpenSinceMonth\": 2.0, \"CompetitionOpenSinceYear\": 2014.0, \"Promo2\": 1, \"Promo2SinceWeek\": 10.0, \"Promo2SinceYear\": 2014.0, \"PromoInterval\": \"Mar,Jun,Sept,Dec\"}, {\"Store\": 14, \"DayOfWeek\": 6, \"Date\": \"2015-09-05\", \"Open\": 1.0, \"Promo\": 0, \"StateHoliday\": \"0\", \"SchoolHoliday\": 0, \"StoreType\": \"a\", \"Assortment\": \"a\", \"CompetitionDistance\": 1300.0, \"CompetitionOpenSinceMonth\": 3.0, \"CompetitionOpenSinceYear\": 2014.0, \"Promo2\": 1, \"Promo2SinceWeek\": 40.0, \"Promo2SinceYear\": 2011.0, \"PromoInterval\": \"Jan,Apr,Jul,Oct\"}, {\"Store\": 23, \"DayOfWeek\": 6, \"Date\": \"2015-09-05\", \"Open\": 1.0, \"Promo\": 0, \"StateHoliday\": \"0\", \"SchoolHoliday\": 0, \"StoreType\": \"d\", \"Assortment\": \"a\", \"CompetitionDistance\": 4060.0, \"CompetitionOpenSinceMonth\": 8.0, \"CompetitionOpenSinceYear\": 2005.0, \"Promo2\": 0, \"Promo2SinceWeek\": NaN, \"Promo2SinceYear\": NaN, \"PromoInterval\": NaN}, {\"Store\": 30, \"DayOfWeek\": 6, \"Date\": \"2015-09-05\", \"Open\": 1.0, \"Promo\": 0, \"StateHoliday\": \"0\", \"SchoolHoliday\": 0, \"StoreType\": \"a\", \"Assortment\": \"a\", \"CompetitionDistance\": 40.0, \"CompetitionOpenSinceMonth\": 2.0, \"CompetitionOpenSinceYear\": 2014.0, \"Promo2\": 1, \"Promo2SinceWeek\": 10.0, \"Promo2SinceYear\": 2014.0, \"PromoInterval\": \"Mar,Jun,Sept,Dec\"}, {\"Store\": 14, \"DayOfWeek\": 5, \"Date\": \"2015-09-04\", \"Open\": 1.0, \"Promo\": 1, \"StateHoliday\": \"0\", \"SchoolHoliday\": 0, \"StoreType\": \"a\", \"Assortment\": \"a\", \"CompetitionDistance\": 1300.0, \"CompetitionOpenSinceMonth\": 3.0, \"CompetitionOpenSinceYear\": 2014.0, \"Promo2\": 1, \"Promo2SinceWeek\": 40.0, \"Promo2SinceYear\": 2011.0, \"PromoInterval\": \"Jan,Apr,Jul,Oct\"}, {\"Store\": 23, \"DayOfWeek\": 5, \"Date\": \"2015-09-04\", \"Open\": 1.0, \"Promo\": 1, \"StateHoliday\": \"0\", \"SchoolHoliday\": 1, \"StoreType\": \"d\", \"Assortment\": \"a\", \"CompetitionDistance\": 4060.0, \"CompetitionOpenSinceMonth\": 8.0, \"CompetitionOpenSinceYear\": 2005.0, \"Promo2\": 0, \"Promo2SinceWeek\": NaN, \"Promo2SinceYear\": NaN, \"PromoInterval\": NaN}, {\"Store\": 30, \"DayOfWeek\": 5, \"Date\": \"2015-09-04\", \"Open\": 1.0, \"Promo\": 1, \"StateHoliday\": \"0\", \"SchoolHoliday\": 0, \"StoreType\": \"a\", \"Assortment\": \"a\", \"CompetitionDistance\": 40.0, \"CompetitionOpenSinceMonth\": 2.0, \"CompetitionOpenSinceYear\": 2014.0, \"Promo2\": 1, \"Promo2SinceWeek\": 10.0, \"Promo2SinceYear\": 2014.0, \"PromoInterval\": \"Mar,Jun,Sept,Dec\"}, {\"Store\": 14, \"DayOfWeek\": 4, \"Date\": \"2015-09-03\", \"Open\": 1.0, \"Promo\": 1, \"StateHoliday\": \"0\", \"SchoolHoliday\": 0, \"StoreType\": \"a\", \"Assortment\": \"a\", \"CompetitionDistance\": 1300.0, \"CompetitionOpenSinceMonth\": 3.0, \"CompetitionOpenSinceYear\": 2014.0, \"Promo2\": 1, \"Promo2SinceWeek\": 40.0, \"Promo2SinceYear\": 2011.0, \"PromoInterval\": \"Jan,Apr,Jul,Oct\"}, {\"Store\": 23, \"DayOfWeek\": 4, \"Date\": \"2015-09-03\", \"Open\": 1.0, \"Promo\": 1, \"StateHoliday\": \"0\", \"SchoolHoliday\": 1, \"StoreType\": \"d\", \"Assortment\": \"a\", \"CompetitionDistance\": 4060.0, \"CompetitionOpenSinceMonth\": 8.0, \"CompetitionOpenSinceYear\": 2005.0, \"Promo2\": 0, \"Promo2SinceWeek\": NaN, \"Promo2SinceYear\": NaN, \"PromoInterval\": NaN}, {\"Store\": 30, \"DayOfWeek\": 4, \"Date\": \"2015-09-03\", \"Open\": 1.0, \"Promo\": 1, \"StateHoliday\": \"0\", \"SchoolHoliday\": 0, \"StoreType\": \"a\", \"Assortment\": \"a\", \"CompetitionDistance\": 40.0, \"CompetitionOpenSinceMonth\": 2.0, \"CompetitionOpenSinceYear\": 2014.0, \"Promo2\": 1, \"Promo2SinceWeek\": 10.0, \"Promo2SinceYear\": 2014.0, \"PromoInterval\": \"Mar,Jun,Sept,Dec\"}, {\"Store\": 14, \"DayOfWeek\": 3, \"Date\": \"2015-09-02\", \"Open\": 1.0, \"Promo\": 1, \"StateHoliday\": \"0\", \"SchoolHoliday\": 0, \"StoreType\": \"a\", \"Assortment\": \"a\", \"CompetitionDistance\": 1300.0, \"CompetitionOpenSinceMonth\": 3.0, \"CompetitionOpenSinceYear\": 2014.0, \"Promo2\": 1, \"Promo2SinceWeek\": 40.0, \"Promo2SinceYear\": 2011.0, \"PromoInterval\": \"Jan,Apr,Jul,Oct\"}, {\"Store\": 23, \"DayOfWeek\": 3, \"Date\": \"2015-09-02\", \"Open\": 1.0, \"Promo\": 1, \"StateHoliday\": \"0\", \"SchoolHoliday\": 1, \"StoreType\": \"d\", \"Assortment\": \"a\", \"CompetitionDistance\": 4060.0, \"CompetitionOpenSinceMonth\": 8.0, \"CompetitionOpenSinceYear\": 2005.0, \"Promo2\": 0, \"Promo2SinceWeek\": NaN, \"Promo2SinceYear\": NaN, \"PromoInterval\": NaN}, {\"Store\": 30, \"DayOfWeek\": 3, \"Date\": \"2015-09-02\", \"Open\": 1.0, \"Promo\": 1, \"StateHoliday\": \"0\", \"SchoolHoliday\": 0, \"StoreType\": \"a\", \"Assortment\": \"a\", \"CompetitionDistance\": 40.0, \"CompetitionOpenSinceMonth\": 2.0, \"CompetitionOpenSinceYear\": 2014.0, \"Promo2\": 1, \"Promo2SinceWeek\": 10.0, \"Promo2SinceYear\": 2014.0, \"PromoInterval\": \"Mar,Jun,Sept,Dec\"}, {\"Store\": 14, \"DayOfWeek\": 2, \"Date\": \"2015-09-01\", \"Open\": 1.0, \"Promo\": 1, \"StateHoliday\": \"0\", \"SchoolHoliday\": 0, \"StoreType\": \"a\", \"Assortment\": \"a\", \"CompetitionDistance\": 1300.0, \"CompetitionOpenSinceMonth\": 3.0, \"CompetitionOpenSinceYear\": 2014.0, \"Promo2\": 1, \"Promo2SinceWeek\": 40.0, \"Promo2SinceYear\": 2011.0, \"PromoInterval\": \"Jan,Apr,Jul,Oct\"}, {\"Store\": 23, \"DayOfWeek\": 2, \"Date\": \"2015-09-01\", \"Open\": 1.0, \"Promo\": 1, \"StateHoliday\": \"0\", \"SchoolHoliday\": 1, \"StoreType\": \"d\", \"Assortment\": \"a\", \"CompetitionDistance\": 4060.0, \"CompetitionOpenSinceMonth\": 8.0, \"CompetitionOpenSinceYear\": 2005.0, \"Promo2\": 0, \"Promo2SinceWeek\": NaN, \"Promo2SinceYear\": NaN, \"PromoInterval\": NaN}, {\"Store\": 30, \"DayOfWeek\": 2, \"Date\": \"2015-09-01\", \"Open\": 1.0, \"Promo\": 1, \"StateHoliday\": \"0\", \"SchoolHoliday\": 0, \"StoreType\": \"a\", \"Assortment\": \"a\", \"CompetitionDistance\": 40.0, \"CompetitionOpenSinceMonth\": 2.0, \"CompetitionOpenSinceYear\": 2014.0, \"Promo2\": 1, \"Promo2SinceWeek\": 10.0, \"Promo2SinceYear\": 2014.0, \"PromoInterval\": \"Mar,Jun,Sept,Dec\"}, {\"Store\": 14, \"DayOfWeek\": 1, \"Date\": \"2015-08-31\", \"Open\": 1.0, \"Promo\": 1, \"StateHoliday\": \"0\", \"SchoolHoliday\": 0, \"StoreType\": \"a\", \"Assortment\": \"a\", \"CompetitionDistance\": 1300.0, \"CompetitionOpenSinceMonth\": 3.0, \"CompetitionOpenSinceYear\": 2014.0, \"Promo2\": 1, \"Promo2SinceWeek\": 40.0, \"Promo2SinceYear\": 2011.0, \"PromoInterval\": \"Jan,Apr,Jul,Oct\"}, {\"Store\": 23, \"DayOfWeek\": 1, \"Date\": \"2015-08-31\", \"Open\": 1.0, \"Promo\": 1, \"StateHoliday\": \"0\", \"SchoolHoliday\": 1, \"StoreType\": \"d\", \"Assortment\": \"a\", \"CompetitionDistance\": 4060.0, \"CompetitionOpenSinceMonth\": 8.0, \"CompetitionOpenSinceYear\": 2005.0, \"Promo2\": 0, \"Promo2SinceWeek\": NaN, \"Promo2SinceYear\": NaN, \"PromoInterval\": NaN}, {\"Store\": 30, \"DayOfWeek\": 1, \"Date\": \"2015-08-31\", \"Open\": 1.0, \"Promo\": 1, \"StateHoliday\": \"0\", \"SchoolHoliday\": 0, \"StoreType\": \"a\", \"Assortment\": \"a\", \"CompetitionDistance\": 40.0, \"CompetitionOpenSinceMonth\": 2.0, \"CompetitionOpenSinceYear\": 2014.0, \"Promo2\": 1, \"Promo2SinceWeek\": 10.0, \"Promo2SinceYear\": 2014.0, \"PromoInterval\": \"Mar,Jun,Sept,Dec\"}, {\"Store\": 14, \"DayOfWeek\": 6, \"Date\": \"2015-08-29\", \"Open\": 1.0, \"Promo\": 0, \"StateHoliday\": \"0\", \"SchoolHoliday\": 0, \"StoreType\": \"a\", \"Assortment\": \"a\", \"CompetitionDistance\": 1300.0, \"CompetitionOpenSinceMonth\": 3.0, \"CompetitionOpenSinceYear\": 2014.0, \"Promo2\": 1, \"Promo2SinceWeek\": 40.0, \"Promo2SinceYear\": 2011.0, \"PromoInterval\": \"Jan,Apr,Jul,Oct\"}, {\"Store\": 23, \"DayOfWeek\": 6, \"Date\": \"2015-08-29\", \"Open\": 1.0, \"Promo\": 0, \"StateHoliday\": \"0\", \"SchoolHoliday\": 0, \"StoreType\": \"d\", \"Assortment\": \"a\", \"CompetitionDistance\": 4060.0, \"CompetitionOpenSinceMonth\": 8.0, \"CompetitionOpenSinceYear\": 2005.0, \"Promo2\": 0, \"Promo2SinceWeek\": NaN, \"Promo2SinceYear\": NaN, \"PromoInterval\": NaN}, {\"Store\": 30, \"DayOfWeek\": 6, \"Date\": \"2015-08-29\", \"Open\": 1.0, \"Promo\": 0, \"StateHoliday\": \"0\", \"SchoolHoliday\": 0, \"StoreType\": \"a\", \"Assortment\": \"a\", \"CompetitionDistance\": 40.0, \"CompetitionOpenSinceMonth\": 2.0, \"CompetitionOpenSinceYear\": 2014.0, \"Promo2\": 1, \"Promo2SinceWeek\": 10.0, \"Promo2SinceYear\": 2014.0, \"PromoInterval\": \"Mar,Jun,Sept,Dec\"}, {\"Store\": 14, \"DayOfWeek\": 5, \"Date\": \"2015-08-28\", \"Open\": 1.0, \"Promo\": 0, \"StateHoliday\": \"0\", \"SchoolHoliday\": 0, \"StoreType\": \"a\", \"Assortment\": \"a\", \"CompetitionDistance\": 1300.0, \"CompetitionOpenSinceMonth\": 3.0, \"CompetitionOpenSinceYear\": 2014.0, \"Promo2\": 1, \"Promo2SinceWeek\": 40.0, \"Promo2SinceYear\": 2011.0, \"PromoInterval\": \"Jan,Apr,Jul,Oct\"}, {\"Store\": 23, \"DayOfWeek\": 5, \"Date\": \"2015-08-28\", \"Open\": 1.0, \"Promo\": 0, \"StateHoliday\": \"0\", \"SchoolHoliday\": 1, \"StoreType\": \"d\", \"Assortment\": \"a\", \"CompetitionDistance\": 4060.0, \"CompetitionOpenSinceMonth\": 8.0, \"CompetitionOpenSinceYear\": 2005.0, \"Promo2\": 0, \"Promo2SinceWeek\": NaN, \"Promo2SinceYear\": NaN, \"PromoInterval\": NaN}, {\"Store\": 30, \"DayOfWeek\": 5, \"Date\": \"2015-08-28\", \"Open\": 1.0, \"Promo\": 0, \"StateHoliday\": \"0\", \"SchoolHoliday\": 0, \"StoreType\": \"a\", \"Assortment\": \"a\", \"CompetitionDistance\": 40.0, \"CompetitionOpenSinceMonth\": 2.0, \"CompetitionOpenSinceYear\": 2014.0, \"Promo2\": 1, \"Promo2SinceWeek\": 10.0, \"Promo2SinceYear\": 2014.0, \"PromoInterval\": \"Mar,Jun,Sept,Dec\"}, {\"Store\": 14, \"DayOfWeek\": 4, \"Date\": \"2015-08-27\", \"Open\": 1.0, \"Promo\": 0, \"StateHoliday\": \"0\", \"SchoolHoliday\": 0, \"StoreType\": \"a\", \"Assortment\": \"a\", \"CompetitionDistance\": 1300.0, \"CompetitionOpenSinceMonth\": 3.0, \"CompetitionOpenSinceYear\": 2014.0, \"Promo2\": 1, \"Promo2SinceWeek\": 40.0, \"Promo2SinceYear\": 2011.0, \"PromoInterval\": \"Jan,Apr,Jul,Oct\"}, {\"Store\": 23, \"DayOfWeek\": 4, \"Date\": \"2015-08-27\", \"Open\": 1.0, \"Promo\": 0, \"StateHoliday\": \"0\", \"SchoolHoliday\": 1, \"StoreType\": \"d\", \"Assortment\": \"a\", \"CompetitionDistance\": 4060.0, \"CompetitionOpenSinceMonth\": 8.0, \"CompetitionOpenSinceYear\": 2005.0, \"Promo2\": 0, \"Promo2SinceWeek\": NaN, \"Promo2SinceYear\": NaN, \"PromoInterval\": NaN}, {\"Store\": 30, \"DayOfWeek\": 4, \"Date\": \"2015-08-27\", \"Open\": 1.0, \"Promo\": 0, \"StateHoliday\": \"0\", \"SchoolHoliday\": 0, \"StoreType\": \"a\", \"Assortment\": \"a\", \"CompetitionDistance\": 40.0, \"CompetitionOpenSinceMonth\": 2.0, \"CompetitionOpenSinceYear\": 2014.0, \"Promo2\": 1, \"Promo2SinceWeek\": 10.0, \"Promo2SinceYear\": 2014.0, \"PromoInterval\": \"Mar,Jun,Sept,Dec\"}, {\"Store\": 14, \"DayOfWeek\": 3, \"Date\": \"2015-08-26\", \"Open\": 1.0, \"Promo\": 0, \"StateHoliday\": \"0\", \"SchoolHoliday\": 0, \"StoreType\": \"a\", \"Assortment\": \"a\", \"CompetitionDistance\": 1300.0, \"CompetitionOpenSinceMonth\": 3.0, \"CompetitionOpenSinceYear\": 2014.0, \"Promo2\": 1, \"Promo2SinceWeek\": 40.0, \"Promo2SinceYear\": 2011.0, \"PromoInterval\": \"Jan,Apr,Jul,Oct\"}, {\"Store\": 23, \"DayOfWeek\": 3, \"Date\": \"2015-08-26\", \"Open\": 1.0, \"Promo\": 0, \"StateHoliday\": \"0\", \"SchoolHoliday\": 1, \"StoreType\": \"d\", \"Assortment\": \"a\", \"CompetitionDistance\": 4060.0, \"CompetitionOpenSinceMonth\": 8.0, \"CompetitionOpenSinceYear\": 2005.0, \"Promo2\": 0, \"Promo2SinceWeek\": NaN, \"Promo2SinceYear\": NaN, \"PromoInterval\": NaN}, {\"Store\": 30, \"DayOfWeek\": 3, \"Date\": \"2015-08-26\", \"Open\": 1.0, \"Promo\": 0, \"StateHoliday\": \"0\", \"SchoolHoliday\": 0, \"StoreType\": \"a\", \"Assortment\": \"a\", \"CompetitionDistance\": 40.0, \"CompetitionOpenSinceMonth\": 2.0, \"CompetitionOpenSinceYear\": 2014.0, \"Promo2\": 1, \"Promo2SinceWeek\": 10.0, \"Promo2SinceYear\": 2014.0, \"PromoInterval\": \"Mar,Jun,Sept,Dec\"}, {\"Store\": 14, \"DayOfWeek\": 2, \"Date\": \"2015-08-25\", \"Open\": 1.0, \"Promo\": 0, \"StateHoliday\": \"0\", \"SchoolHoliday\": 0, \"StoreType\": \"a\", \"Assortment\": \"a\", \"CompetitionDistance\": 1300.0, \"CompetitionOpenSinceMonth\": 3.0, \"CompetitionOpenSinceYear\": 2014.0, \"Promo2\": 1, \"Promo2SinceWeek\": 40.0, \"Promo2SinceYear\": 2011.0, \"PromoInterval\": \"Jan,Apr,Jul,Oct\"}, {\"Store\": 23, \"DayOfWeek\": 2, \"Date\": \"2015-08-25\", \"Open\": 1.0, \"Promo\": 0, \"StateHoliday\": \"0\", \"SchoolHoliday\": 1, \"StoreType\": \"d\", \"Assortment\": \"a\", \"CompetitionDistance\": 4060.0, \"CompetitionOpenSinceMonth\": 8.0, \"CompetitionOpenSinceYear\": 2005.0, \"Promo2\": 0, \"Promo2SinceWeek\": NaN, \"Promo2SinceYear\": NaN, \"PromoInterval\": NaN}, {\"Store\": 30, \"DayOfWeek\": 2, \"Date\": \"2015-08-25\", \"Open\": 1.0, \"Promo\": 0, \"StateHoliday\": \"0\", \"SchoolHoliday\": 0, \"StoreType\": \"a\", \"Assortment\": \"a\", \"CompetitionDistance\": 40.0, \"CompetitionOpenSinceMonth\": 2.0, \"CompetitionOpenSinceYear\": 2014.0, \"Promo2\": 1, \"Promo2SinceWeek\": 10.0, \"Promo2SinceYear\": 2014.0, \"PromoInterval\": \"Mar,Jun,Sept,Dec\"}, {\"Store\": 14, \"DayOfWeek\": 1, \"Date\": \"2015-08-24\", \"Open\": 1.0, \"Promo\": 0, \"StateHoliday\": \"0\", \"SchoolHoliday\": 0, \"StoreType\": \"a\", \"Assortment\": \"a\", \"CompetitionDistance\": 1300.0, \"CompetitionOpenSinceMonth\": 3.0, \"CompetitionOpenSinceYear\": 2014.0, \"Promo2\": 1, \"Promo2SinceWeek\": 40.0, \"Promo2SinceYear\": 2011.0, \"PromoInterval\": \"Jan,Apr,Jul,Oct\"}, {\"Store\": 23, \"DayOfWeek\": 1, \"Date\": \"2015-08-24\", \"Open\": 1.0, \"Promo\": 0, \"StateHoliday\": \"0\", \"SchoolHoliday\": 1, \"StoreType\": \"d\", \"Assortment\": \"a\", \"CompetitionDistance\": 4060.0, \"CompetitionOpenSinceMonth\": 8.0, \"CompetitionOpenSinceYear\": 2005.0, \"Promo2\": 0, \"Promo2SinceWeek\": NaN, \"Promo2SinceYear\": NaN, \"PromoInterval\": NaN}, {\"Store\": 30, \"DayOfWeek\": 1, \"Date\": \"2015-08-24\", \"Open\": 1.0, \"Promo\": 0, \"StateHoliday\": \"0\", \"SchoolHoliday\": 0, \"StoreType\": \"a\", \"Assortment\": \"a\", \"CompetitionDistance\": 40.0, \"CompetitionOpenSinceMonth\": 2.0, \"CompetitionOpenSinceYear\": 2014.0, \"Promo2\": 1, \"Promo2SinceWeek\": 10.0, \"Promo2SinceYear\": 2014.0, \"PromoInterval\": \"Mar,Jun,Sept,Dec\"}, {\"Store\": 14, \"DayOfWeek\": 6, \"Date\": \"2015-08-22\", \"Open\": 1.0, \"Promo\": 0, \"StateHoliday\": \"0\", \"SchoolHoliday\": 0, \"StoreType\": \"a\", \"Assortment\": \"a\", \"CompetitionDistance\": 1300.0, \"CompetitionOpenSinceMonth\": 3.0, \"CompetitionOpenSinceYear\": 2014.0, \"Promo2\": 1, \"Promo2SinceWeek\": 40.0, \"Promo2SinceYear\": 2011.0, \"PromoInterval\": \"Jan,Apr,Jul,Oct\"}, {\"Store\": 23, \"DayOfWeek\": 6, \"Date\": \"2015-08-22\", \"Open\": 1.0, \"Promo\": 0, \"StateHoliday\": \"0\", \"SchoolHoliday\": 0, \"StoreType\": \"d\", \"Assortment\": \"a\", \"CompetitionDistance\": 4060.0, \"CompetitionOpenSinceMonth\": 8.0, \"CompetitionOpenSinceYear\": 2005.0, \"Promo2\": 0, \"Promo2SinceWeek\": NaN, \"Promo2SinceYear\": NaN, \"PromoInterval\": NaN}, {\"Store\": 30, \"DayOfWeek\": 6, \"Date\": \"2015-08-22\", \"Open\": 1.0, \"Promo\": 0, \"StateHoliday\": \"0\", \"SchoolHoliday\": 0, \"StoreType\": \"a\", \"Assortment\": \"a\", \"CompetitionDistance\": 40.0, \"CompetitionOpenSinceMonth\": 2.0, \"CompetitionOpenSinceYear\": 2014.0, \"Promo2\": 1, \"Promo2SinceWeek\": 10.0, \"Promo2SinceYear\": 2014.0, \"PromoInterval\": \"Mar,Jun,Sept,Dec\"}, {\"Store\": 14, \"DayOfWeek\": 5, \"Date\": \"2015-08-21\", \"Open\": 1.0, \"Promo\": 1, \"StateHoliday\": \"0\", \"SchoolHoliday\": 0, \"StoreType\": \"a\", \"Assortment\": \"a\", \"CompetitionDistance\": 1300.0, \"CompetitionOpenSinceMonth\": 3.0, \"CompetitionOpenSinceYear\": 2014.0, \"Promo2\": 1, \"Promo2SinceWeek\": 40.0, \"Promo2SinceYear\": 2011.0, \"PromoInterval\": \"Jan,Apr,Jul,Oct\"}, {\"Store\": 23, \"DayOfWeek\": 5, \"Date\": \"2015-08-21\", \"Open\": 1.0, \"Promo\": 1, \"StateHoliday\": \"0\", \"SchoolHoliday\": 1, \"StoreType\": \"d\", \"Assortment\": \"a\", \"CompetitionDistance\": 4060.0, \"CompetitionOpenSinceMonth\": 8.0, \"CompetitionOpenSinceYear\": 2005.0, \"Promo2\": 0, \"Promo2SinceWeek\": NaN, \"Promo2SinceYear\": NaN, \"PromoInterval\": NaN}, {\"Store\": 30, \"DayOfWeek\": 5, \"Date\": \"2015-08-21\", \"Open\": 1.0, \"Promo\": 1, \"StateHoliday\": \"0\", \"SchoolHoliday\": 0, \"StoreType\": \"a\", \"Assortment\": \"a\", \"CompetitionDistance\": 40.0, \"CompetitionOpenSinceMonth\": 2.0, \"CompetitionOpenSinceYear\": 2014.0, \"Promo2\": 1, \"Promo2SinceWeek\": 10.0, \"Promo2SinceYear\": 2014.0, \"PromoInterval\": \"Mar,Jun,Sept,Dec\"}, {\"Store\": 14, \"DayOfWeek\": 4, \"Date\": \"2015-08-20\", \"Open\": 1.0, \"Promo\": 1, \"StateHoliday\": \"0\", \"SchoolHoliday\": 0, \"StoreType\": \"a\", \"Assortment\": \"a\", \"CompetitionDistance\": 1300.0, \"CompetitionOpenSinceMonth\": 3.0, \"CompetitionOpenSinceYear\": 2014.0, \"Promo2\": 1, \"Promo2SinceWeek\": 40.0, \"Promo2SinceYear\": 2011.0, \"PromoInterval\": \"Jan,Apr,Jul,Oct\"}, {\"Store\": 23, \"DayOfWeek\": 4, \"Date\": \"2015-08-20\", \"Open\": 1.0, \"Promo\": 1, \"StateHoliday\": \"0\", \"SchoolHoliday\": 1, \"StoreType\": \"d\", \"Assortment\": \"a\", \"CompetitionDistance\": 4060.0, \"CompetitionOpenSinceMonth\": 8.0, \"CompetitionOpenSinceYear\": 2005.0, \"Promo2\": 0, \"Promo2SinceWeek\": NaN, \"Promo2SinceYear\": NaN, \"PromoInterval\": NaN}, {\"Store\": 30, \"DayOfWeek\": 4, \"Date\": \"2015-08-20\", \"Open\": 1.0, \"Promo\": 1, \"StateHoliday\": \"0\", \"SchoolHoliday\": 0, \"StoreType\": \"a\", \"Assortment\": \"a\", \"CompetitionDistance\": 40.0, \"CompetitionOpenSinceMonth\": 2.0, \"CompetitionOpenSinceYear\": 2014.0, \"Promo2\": 1, \"Promo2SinceWeek\": 10.0, \"Promo2SinceYear\": 2014.0, \"PromoInterval\": \"Mar,Jun,Sept,Dec\"}, {\"Store\": 14, \"DayOfWeek\": 3, \"Date\": \"2015-08-19\", \"Open\": 1.0, \"Promo\": 1, \"StateHoliday\": \"0\", \"SchoolHoliday\": 0, \"StoreType\": \"a\", \"Assortment\": \"a\", \"CompetitionDistance\": 1300.0, \"CompetitionOpenSinceMonth\": 3.0, \"CompetitionOpenSinceYear\": 2014.0, \"Promo2\": 1, \"Promo2SinceWeek\": 40.0, \"Promo2SinceYear\": 2011.0, \"PromoInterval\": \"Jan,Apr,Jul,Oct\"}, {\"Store\": 23, \"DayOfWeek\": 3, \"Date\": \"2015-08-19\", \"Open\": 1.0, \"Promo\": 1, \"StateHoliday\": \"0\", \"SchoolHoliday\": 1, \"StoreType\": \"d\", \"Assortment\": \"a\", \"CompetitionDistance\": 4060.0, \"CompetitionOpenSinceMonth\": 8.0, \"CompetitionOpenSinceYear\": 2005.0, \"Promo2\": 0, \"Promo2SinceWeek\": NaN, \"Promo2SinceYear\": NaN, \"PromoInterval\": NaN}, {\"Store\": 30, \"DayOfWeek\": 3, \"Date\": \"2015-08-19\", \"Open\": 1.0, \"Promo\": 1, \"StateHoliday\": \"0\", \"SchoolHoliday\": 0, \"StoreType\": \"a\", \"Assortment\": \"a\", \"CompetitionDistance\": 40.0, \"CompetitionOpenSinceMonth\": 2.0, \"CompetitionOpenSinceYear\": 2014.0, \"Promo2\": 1, \"Promo2SinceWeek\": 10.0, \"Promo2SinceYear\": 2014.0, \"PromoInterval\": \"Mar,Jun,Sept,Dec\"}, {\"Store\": 14, \"DayOfWeek\": 2, \"Date\": \"2015-08-18\", \"Open\": 1.0, \"Promo\": 1, \"StateHoliday\": \"0\", \"SchoolHoliday\": 0, \"StoreType\": \"a\", \"Assortment\": \"a\", \"CompetitionDistance\": 1300.0, \"CompetitionOpenSinceMonth\": 3.0, \"CompetitionOpenSinceYear\": 2014.0, \"Promo2\": 1, \"Promo2SinceWeek\": 40.0, \"Promo2SinceYear\": 2011.0, \"PromoInterval\": \"Jan,Apr,Jul,Oct\"}, {\"Store\": 23, \"DayOfWeek\": 2, \"Date\": \"2015-08-18\", \"Open\": 1.0, \"Promo\": 1, \"StateHoliday\": \"0\", \"SchoolHoliday\": 1, \"StoreType\": \"d\", \"Assortment\": \"a\", \"CompetitionDistance\": 4060.0, \"CompetitionOpenSinceMonth\": 8.0, \"CompetitionOpenSinceYear\": 2005.0, \"Promo2\": 0, \"Promo2SinceWeek\": NaN, \"Promo2SinceYear\": NaN, \"PromoInterval\": NaN}, {\"Store\": 30, \"DayOfWeek\": 2, \"Date\": \"2015-08-18\", \"Open\": 1.0, \"Promo\": 1, \"StateHoliday\": \"0\", \"SchoolHoliday\": 0, \"StoreType\": \"a\", \"Assortment\": \"a\", \"CompetitionDistance\": 40.0, \"CompetitionOpenSinceMonth\": 2.0, \"CompetitionOpenSinceYear\": 2014.0, \"Promo2\": 1, \"Promo2SinceWeek\": 10.0, \"Promo2SinceYear\": 2014.0, \"PromoInterval\": \"Mar,Jun,Sept,Dec\"}, {\"Store\": 14, \"DayOfWeek\": 1, \"Date\": \"2015-08-17\", \"Open\": 1.0, \"Promo\": 1, \"StateHoliday\": \"0\", \"SchoolHoliday\": 0, \"StoreType\": \"a\", \"Assortment\": \"a\", \"CompetitionDistance\": 1300.0, \"CompetitionOpenSinceMonth\": 3.0, \"CompetitionOpenSinceYear\": 2014.0, \"Promo2\": 1, \"Promo2SinceWeek\": 40.0, \"Promo2SinceYear\": 2011.0, \"PromoInterval\": \"Jan,Apr,Jul,Oct\"}, {\"Store\": 23, \"DayOfWeek\": 1, \"Date\": \"2015-08-17\", \"Open\": 1.0, \"Promo\": 1, \"StateHoliday\": \"0\", \"SchoolHoliday\": 1, \"StoreType\": \"d\", \"Assortment\": \"a\", \"CompetitionDistance\": 4060.0, \"CompetitionOpenSinceMonth\": 8.0, \"CompetitionOpenSinceYear\": 2005.0, \"Promo2\": 0, \"Promo2SinceWeek\": NaN, \"Promo2SinceYear\": NaN, \"PromoInterval\": NaN}, {\"Store\": 30, \"DayOfWeek\": 1, \"Date\": \"2015-08-17\", \"Open\": 1.0, \"Promo\": 1, \"StateHoliday\": \"0\", \"SchoolHoliday\": 0, \"StoreType\": \"a\", \"Assortment\": \"a\", \"CompetitionDistance\": 40.0, \"CompetitionOpenSinceMonth\": 2.0, \"CompetitionOpenSinceYear\": 2014.0, \"Promo2\": 1, \"Promo2SinceWeek\": 10.0, \"Promo2SinceYear\": 2014.0, \"PromoInterval\": \"Mar,Jun,Sept,Dec\"}, {\"Store\": 14, \"DayOfWeek\": 6, \"Date\": \"2015-08-15\", \"Open\": 1.0, \"Promo\": 0, \"StateHoliday\": \"0\", \"SchoolHoliday\": 0, \"StoreType\": \"a\", \"Assortment\": \"a\", \"CompetitionDistance\": 1300.0, \"CompetitionOpenSinceMonth\": 3.0, \"CompetitionOpenSinceYear\": 2014.0, \"Promo2\": 1, \"Promo2SinceWeek\": 40.0, \"Promo2SinceYear\": 2011.0, \"PromoInterval\": \"Jan,Apr,Jul,Oct\"}, {\"Store\": 23, \"DayOfWeek\": 6, \"Date\": \"2015-08-15\", \"Open\": 1.0, \"Promo\": 0, \"StateHoliday\": \"0\", \"SchoolHoliday\": 0, \"StoreType\": \"d\", \"Assortment\": \"a\", \"CompetitionDistance\": 4060.0, \"CompetitionOpenSinceMonth\": 8.0, \"CompetitionOpenSinceYear\": 2005.0, \"Promo2\": 0, \"Promo2SinceWeek\": NaN, \"Promo2SinceYear\": NaN, \"PromoInterval\": NaN}, {\"Store\": 30, \"DayOfWeek\": 6, \"Date\": \"2015-08-15\", \"Open\": 1.0, \"Promo\": 0, \"StateHoliday\": \"0\", \"SchoolHoliday\": 0, \"StoreType\": \"a\", \"Assortment\": \"a\", \"CompetitionDistance\": 40.0, \"CompetitionOpenSinceMonth\": 2.0, \"CompetitionOpenSinceYear\": 2014.0, \"Promo2\": 1, \"Promo2SinceWeek\": 10.0, \"Promo2SinceYear\": 2014.0, \"PromoInterval\": \"Mar,Jun,Sept,Dec\"}, {\"Store\": 14, \"DayOfWeek\": 5, \"Date\": \"2015-08-14\", \"Open\": 1.0, \"Promo\": 0, \"StateHoliday\": \"0\", \"SchoolHoliday\": 0, \"StoreType\": \"a\", \"Assortment\": \"a\", \"CompetitionDistance\": 1300.0, \"CompetitionOpenSinceMonth\": 3.0, \"CompetitionOpenSinceYear\": 2014.0, \"Promo2\": 1, \"Promo2SinceWeek\": 40.0, \"Promo2SinceYear\": 2011.0, \"PromoInterval\": \"Jan,Apr,Jul,Oct\"}, {\"Store\": 23, \"DayOfWeek\": 5, \"Date\": \"2015-08-14\", \"Open\": 1.0, \"Promo\": 0, \"StateHoliday\": \"0\", \"SchoolHoliday\": 1, \"StoreType\": \"d\", \"Assortment\": \"a\", \"CompetitionDistance\": 4060.0, \"CompetitionOpenSinceMonth\": 8.0, \"CompetitionOpenSinceYear\": 2005.0, \"Promo2\": 0, \"Promo2SinceWeek\": NaN, \"Promo2SinceYear\": NaN, \"PromoInterval\": NaN}, {\"Store\": 30, \"DayOfWeek\": 5, \"Date\": \"2015-08-14\", \"Open\": 1.0, \"Promo\": 0, \"StateHoliday\": \"0\", \"SchoolHoliday\": 0, \"StoreType\": \"a\", \"Assortment\": \"a\", \"CompetitionDistance\": 40.0, \"CompetitionOpenSinceMonth\": 2.0, \"CompetitionOpenSinceYear\": 2014.0, \"Promo2\": 1, \"Promo2SinceWeek\": 10.0, \"Promo2SinceYear\": 2014.0, \"PromoInterval\": \"Mar,Jun,Sept,Dec\"}, {\"Store\": 14, \"DayOfWeek\": 4, \"Date\": \"2015-08-13\", \"Open\": 1.0, \"Promo\": 0, \"StateHoliday\": \"0\", \"SchoolHoliday\": 0, \"StoreType\": \"a\", \"Assortment\": \"a\", \"CompetitionDistance\": 1300.0, \"CompetitionOpenSinceMonth\": 3.0, \"CompetitionOpenSinceYear\": 2014.0, \"Promo2\": 1, \"Promo2SinceWeek\": 40.0, \"Promo2SinceYear\": 2011.0, \"PromoInterval\": \"Jan,Apr,Jul,Oct\"}, {\"Store\": 23, \"DayOfWeek\": 4, \"Date\": \"2015-08-13\", \"Open\": 1.0, \"Promo\": 0, \"StateHoliday\": \"0\", \"SchoolHoliday\": 1, \"StoreType\": \"d\", \"Assortment\": \"a\", \"CompetitionDistance\": 4060.0, \"CompetitionOpenSinceMonth\": 8.0, \"CompetitionOpenSinceYear\": 2005.0, \"Promo2\": 0, \"Promo2SinceWeek\": NaN, \"Promo2SinceYear\": NaN, \"PromoInterval\": NaN}, {\"Store\": 30, \"DayOfWeek\": 4, \"Date\": \"2015-08-13\", \"Open\": 1.0, \"Promo\": 0, \"StateHoliday\": \"0\", \"SchoolHoliday\": 0, \"StoreType\": \"a\", \"Assortment\": \"a\", \"CompetitionDistance\": 40.0, \"CompetitionOpenSinceMonth\": 2.0, \"CompetitionOpenSinceYear\": 2014.0, \"Promo2\": 1, \"Promo2SinceWeek\": 10.0, \"Promo2SinceYear\": 2014.0, \"PromoInterval\": \"Mar,Jun,Sept,Dec\"}, {\"Store\": 14, \"DayOfWeek\": 3, \"Date\": \"2015-08-12\", \"Open\": 1.0, \"Promo\": 0, \"StateHoliday\": \"0\", \"SchoolHoliday\": 0, \"StoreType\": \"a\", \"Assortment\": \"a\", \"CompetitionDistance\": 1300.0, \"CompetitionOpenSinceMonth\": 3.0, \"CompetitionOpenSinceYear\": 2014.0, \"Promo2\": 1, \"Promo2SinceWeek\": 40.0, \"Promo2SinceYear\": 2011.0, \"PromoInterval\": \"Jan,Apr,Jul,Oct\"}, {\"Store\": 23, \"DayOfWeek\": 3, \"Date\": \"2015-08-12\", \"Open\": 1.0, \"Promo\": 0, \"StateHoliday\": \"0\", \"SchoolHoliday\": 1, \"StoreType\": \"d\", \"Assortment\": \"a\", \"CompetitionDistance\": 4060.0, \"CompetitionOpenSinceMonth\": 8.0, \"CompetitionOpenSinceYear\": 2005.0, \"Promo2\": 0, \"Promo2SinceWeek\": NaN, \"Promo2SinceYear\": NaN, \"PromoInterval\": NaN}, {\"Store\": 30, \"DayOfWeek\": 3, \"Date\": \"2015-08-12\", \"Open\": 1.0, \"Promo\": 0, \"StateHoliday\": \"0\", \"SchoolHoliday\": 0, \"StoreType\": \"a\", \"Assortment\": \"a\", \"CompetitionDistance\": 40.0, \"CompetitionOpenSinceMonth\": 2.0, \"CompetitionOpenSinceYear\": 2014.0, \"Promo2\": 1, \"Promo2SinceWeek\": 10.0, \"Promo2SinceYear\": 2014.0, \"PromoInterval\": \"Mar,Jun,Sept,Dec\"}, {\"Store\": 14, \"DayOfWeek\": 2, \"Date\": \"2015-08-11\", \"Open\": 1.0, \"Promo\": 0, \"StateHoliday\": \"0\", \"SchoolHoliday\": 1, \"StoreType\": \"a\", \"Assortment\": \"a\", \"CompetitionDistance\": 1300.0, \"CompetitionOpenSinceMonth\": 3.0, \"CompetitionOpenSinceYear\": 2014.0, \"Promo2\": 1, \"Promo2SinceWeek\": 40.0, \"Promo2SinceYear\": 2011.0, \"PromoInterval\": \"Jan,Apr,Jul,Oct\"}, {\"Store\": 23, \"DayOfWeek\": 2, \"Date\": \"2015-08-11\", \"Open\": 1.0, \"Promo\": 0, \"StateHoliday\": \"0\", \"SchoolHoliday\": 1, \"StoreType\": \"d\", \"Assortment\": \"a\", \"CompetitionDistance\": 4060.0, \"CompetitionOpenSinceMonth\": 8.0, \"CompetitionOpenSinceYear\": 2005.0, \"Promo2\": 0, \"Promo2SinceWeek\": NaN, \"Promo2SinceYear\": NaN, \"PromoInterval\": NaN}, {\"Store\": 30, \"DayOfWeek\": 2, \"Date\": \"2015-08-11\", \"Open\": 1.0, \"Promo\": 0, \"StateHoliday\": \"0\", \"SchoolHoliday\": 1, \"StoreType\": \"a\", \"Assortment\": \"a\", \"CompetitionDistance\": 40.0, \"CompetitionOpenSinceMonth\": 2.0, \"CompetitionOpenSinceYear\": 2014.0, \"Promo2\": 1, \"Promo2SinceWeek\": 10.0, \"Promo2SinceYear\": 2014.0, \"PromoInterval\": \"Mar,Jun,Sept,Dec\"}, {\"Store\": 14, \"DayOfWeek\": 1, \"Date\": \"2015-08-10\", \"Open\": 1.0, \"Promo\": 0, \"StateHoliday\": \"0\", \"SchoolHoliday\": 1, \"StoreType\": \"a\", \"Assortment\": \"a\", \"CompetitionDistance\": 1300.0, \"CompetitionOpenSinceMonth\": 3.0, \"CompetitionOpenSinceYear\": 2014.0, \"Promo2\": 1, \"Promo2SinceWeek\": 40.0, \"Promo2SinceYear\": 2011.0, \"PromoInterval\": \"Jan,Apr,Jul,Oct\"}, {\"Store\": 23, \"DayOfWeek\": 1, \"Date\": \"2015-08-10\", \"Open\": 1.0, \"Promo\": 0, \"StateHoliday\": \"0\", \"SchoolHoliday\": 1, \"StoreType\": \"d\", \"Assortment\": \"a\", \"CompetitionDistance\": 4060.0, \"CompetitionOpenSinceMonth\": 8.0, \"CompetitionOpenSinceYear\": 2005.0, \"Promo2\": 0, \"Promo2SinceWeek\": NaN, \"Promo2SinceYear\": NaN, \"PromoInterval\": NaN}, {\"Store\": 30, \"DayOfWeek\": 1, \"Date\": \"2015-08-10\", \"Open\": 1.0, \"Promo\": 0, \"StateHoliday\": \"0\", \"SchoolHoliday\": 1, \"StoreType\": \"a\", \"Assortment\": \"a\", \"CompetitionDistance\": 40.0, \"CompetitionOpenSinceMonth\": 2.0, \"CompetitionOpenSinceYear\": 2014.0, \"Promo2\": 1, \"Promo2SinceWeek\": 10.0, \"Promo2SinceYear\": 2014.0, \"PromoInterval\": \"Mar,Jun,Sept,Dec\"}, {\"Store\": 14, \"DayOfWeek\": 6, \"Date\": \"2015-08-08\", \"Open\": 1.0, \"Promo\": 0, \"StateHoliday\": \"0\", \"SchoolHoliday\": 0, \"StoreType\": \"a\", \"Assortment\": \"a\", \"CompetitionDistance\": 1300.0, \"CompetitionOpenSinceMonth\": 3.0, \"CompetitionOpenSinceYear\": 2014.0, \"Promo2\": 1, \"Promo2SinceWeek\": 40.0, \"Promo2SinceYear\": 2011.0, \"PromoInterval\": \"Jan,Apr,Jul,Oct\"}, {\"Store\": 23, \"DayOfWeek\": 6, \"Date\": \"2015-08-08\", \"Open\": 1.0, \"Promo\": 0, \"StateHoliday\": \"0\", \"SchoolHoliday\": 0, \"StoreType\": \"d\", \"Assortment\": \"a\", \"CompetitionDistance\": 4060.0, \"CompetitionOpenSinceMonth\": 8.0, \"CompetitionOpenSinceYear\": 2005.0, \"Promo2\": 0, \"Promo2SinceWeek\": NaN, \"Promo2SinceYear\": NaN, \"PromoInterval\": NaN}, {\"Store\": 30, \"DayOfWeek\": 6, \"Date\": \"2015-08-08\", \"Open\": 1.0, \"Promo\": 0, \"StateHoliday\": \"0\", \"SchoolHoliday\": 0, \"StoreType\": \"a\", \"Assortment\": \"a\", \"CompetitionDistance\": 40.0, \"CompetitionOpenSinceMonth\": 2.0, \"CompetitionOpenSinceYear\": 2014.0, \"Promo2\": 1, \"Promo2SinceWeek\": 10.0, \"Promo2SinceYear\": 2014.0, \"PromoInterval\": \"Mar,Jun,Sept,Dec\"}, {\"Store\": 14, \"DayOfWeek\": 5, \"Date\": \"2015-08-07\", \"Open\": 1.0, \"Promo\": 1, \"StateHoliday\": \"0\", \"SchoolHoliday\": 1, \"StoreType\": \"a\", \"Assortment\": \"a\", \"CompetitionDistance\": 1300.0, \"CompetitionOpenSinceMonth\": 3.0, \"CompetitionOpenSinceYear\": 2014.0, \"Promo2\": 1, \"Promo2SinceWeek\": 40.0, \"Promo2SinceYear\": 2011.0, \"PromoInterval\": \"Jan,Apr,Jul,Oct\"}, {\"Store\": 23, \"DayOfWeek\": 5, \"Date\": \"2015-08-07\", \"Open\": 1.0, \"Promo\": 1, \"StateHoliday\": \"0\", \"SchoolHoliday\": 1, \"StoreType\": \"d\", \"Assortment\": \"a\", \"CompetitionDistance\": 4060.0, \"CompetitionOpenSinceMonth\": 8.0, \"CompetitionOpenSinceYear\": 2005.0, \"Promo2\": 0, \"Promo2SinceWeek\": NaN, \"Promo2SinceYear\": NaN, \"PromoInterval\": NaN}, {\"Store\": 30, \"DayOfWeek\": 5, \"Date\": \"2015-08-07\", \"Open\": 1.0, \"Promo\": 1, \"StateHoliday\": \"0\", \"SchoolHoliday\": 1, \"StoreType\": \"a\", \"Assortment\": \"a\", \"CompetitionDistance\": 40.0, \"CompetitionOpenSinceMonth\": 2.0, \"CompetitionOpenSinceYear\": 2014.0, \"Promo2\": 1, \"Promo2SinceWeek\": 10.0, \"Promo2SinceYear\": 2014.0, \"PromoInterval\": \"Mar,Jun,Sept,Dec\"}, {\"Store\": 14, \"DayOfWeek\": 4, \"Date\": \"2015-08-06\", \"Open\": 1.0, \"Promo\": 1, \"StateHoliday\": \"0\", \"SchoolHoliday\": 1, \"StoreType\": \"a\", \"Assortment\": \"a\", \"CompetitionDistance\": 1300.0, \"CompetitionOpenSinceMonth\": 3.0, \"CompetitionOpenSinceYear\": 2014.0, \"Promo2\": 1, \"Promo2SinceWeek\": 40.0, \"Promo2SinceYear\": 2011.0, \"PromoInterval\": \"Jan,Apr,Jul,Oct\"}, {\"Store\": 23, \"DayOfWeek\": 4, \"Date\": \"2015-08-06\", \"Open\": 1.0, \"Promo\": 1, \"StateHoliday\": \"0\", \"SchoolHoliday\": 1, \"StoreType\": \"d\", \"Assortment\": \"a\", \"CompetitionDistance\": 4060.0, \"CompetitionOpenSinceMonth\": 8.0, \"CompetitionOpenSinceYear\": 2005.0, \"Promo2\": 0, \"Promo2SinceWeek\": NaN, \"Promo2SinceYear\": NaN, \"PromoInterval\": NaN}, {\"Store\": 30, \"DayOfWeek\": 4, \"Date\": \"2015-08-06\", \"Open\": 1.0, \"Promo\": 1, \"StateHoliday\": \"0\", \"SchoolHoliday\": 1, \"StoreType\": \"a\", \"Assortment\": \"a\", \"CompetitionDistance\": 40.0, \"CompetitionOpenSinceMonth\": 2.0, \"CompetitionOpenSinceYear\": 2014.0, \"Promo2\": 1, \"Promo2SinceWeek\": 10.0, \"Promo2SinceYear\": 2014.0, \"PromoInterval\": \"Mar,Jun,Sept,Dec\"}, {\"Store\": 14, \"DayOfWeek\": 3, \"Date\": \"2015-08-05\", \"Open\": 1.0, \"Promo\": 1, \"StateHoliday\": \"0\", \"SchoolHoliday\": 1, \"StoreType\": \"a\", \"Assortment\": \"a\", \"CompetitionDistance\": 1300.0, \"CompetitionOpenSinceMonth\": 3.0, \"CompetitionOpenSinceYear\": 2014.0, \"Promo2\": 1, \"Promo2SinceWeek\": 40.0, \"Promo2SinceYear\": 2011.0, \"PromoInterval\": \"Jan,Apr,Jul,Oct\"}, {\"Store\": 23, \"DayOfWeek\": 3, \"Date\": \"2015-08-05\", \"Open\": 1.0, \"Promo\": 1, \"StateHoliday\": \"0\", \"SchoolHoliday\": 1, \"StoreType\": \"d\", \"Assortment\": \"a\", \"CompetitionDistance\": 4060.0, \"CompetitionOpenSinceMonth\": 8.0, \"CompetitionOpenSinceYear\": 2005.0, \"Promo2\": 0, \"Promo2SinceWeek\": NaN, \"Promo2SinceYear\": NaN, \"PromoInterval\": NaN}, {\"Store\": 30, \"DayOfWeek\": 3, \"Date\": \"2015-08-05\", \"Open\": 1.0, \"Promo\": 1, \"StateHoliday\": \"0\", \"SchoolHoliday\": 1, \"StoreType\": \"a\", \"Assortment\": \"a\", \"CompetitionDistance\": 40.0, \"CompetitionOpenSinceMonth\": 2.0, \"CompetitionOpenSinceYear\": 2014.0, \"Promo2\": 1, \"Promo2SinceWeek\": 10.0, \"Promo2SinceYear\": 2014.0, \"PromoInterval\": \"Mar,Jun,Sept,Dec\"}, {\"Store\": 14, \"DayOfWeek\": 2, \"Date\": \"2015-08-04\", \"Open\": 1.0, \"Promo\": 1, \"StateHoliday\": \"0\", \"SchoolHoliday\": 1, \"StoreType\": \"a\", \"Assortment\": \"a\", \"CompetitionDistance\": 1300.0, \"CompetitionOpenSinceMonth\": 3.0, \"CompetitionOpenSinceYear\": 2014.0, \"Promo2\": 1, \"Promo2SinceWeek\": 40.0, \"Promo2SinceYear\": 2011.0, \"PromoInterval\": \"Jan,Apr,Jul,Oct\"}, {\"Store\": 23, \"DayOfWeek\": 2, \"Date\": \"2015-08-04\", \"Open\": 1.0, \"Promo\": 1, \"StateHoliday\": \"0\", \"SchoolHoliday\": 1, \"StoreType\": \"d\", \"Assortment\": \"a\", \"CompetitionDistance\": 4060.0, \"CompetitionOpenSinceMonth\": 8.0, \"CompetitionOpenSinceYear\": 2005.0, \"Promo2\": 0, \"Promo2SinceWeek\": NaN, \"Promo2SinceYear\": NaN, \"PromoInterval\": NaN}, {\"Store\": 30, \"DayOfWeek\": 2, \"Date\": \"2015-08-04\", \"Open\": 1.0, \"Promo\": 1, \"StateHoliday\": \"0\", \"SchoolHoliday\": 1, \"StoreType\": \"a\", \"Assortment\": \"a\", \"CompetitionDistance\": 40.0, \"CompetitionOpenSinceMonth\": 2.0, \"CompetitionOpenSinceYear\": 2014.0, \"Promo2\": 1, \"Promo2SinceWeek\": 10.0, \"Promo2SinceYear\": 2014.0, \"PromoInterval\": \"Mar,Jun,Sept,Dec\"}, {\"Store\": 14, \"DayOfWeek\": 1, \"Date\": \"2015-08-03\", \"Open\": 1.0, \"Promo\": 1, \"StateHoliday\": \"0\", \"SchoolHoliday\": 1, \"StoreType\": \"a\", \"Assortment\": \"a\", \"CompetitionDistance\": 1300.0, \"CompetitionOpenSinceMonth\": 3.0, \"CompetitionOpenSinceYear\": 2014.0, \"Promo2\": 1, \"Promo2SinceWeek\": 40.0, \"Promo2SinceYear\": 2011.0, \"PromoInterval\": \"Jan,Apr,Jul,Oct\"}, {\"Store\": 23, \"DayOfWeek\": 1, \"Date\": \"2015-08-03\", \"Open\": 1.0, \"Promo\": 1, \"StateHoliday\": \"0\", \"SchoolHoliday\": 1, \"StoreType\": \"d\", \"Assortment\": \"a\", \"CompetitionDistance\": 4060.0, \"CompetitionOpenSinceMonth\": 8.0, \"CompetitionOpenSinceYear\": 2005.0, \"Promo2\": 0, \"Promo2SinceWeek\": NaN, \"Promo2SinceYear\": NaN, \"PromoInterval\": NaN}, {\"Store\": 30, \"DayOfWeek\": 1, \"Date\": \"2015-08-03\", \"Open\": 1.0, \"Promo\": 1, \"StateHoliday\": \"0\", \"SchoolHoliday\": 1, \"StoreType\": \"a\", \"Assortment\": \"a\", \"CompetitionDistance\": 40.0, \"CompetitionOpenSinceMonth\": 2.0, \"CompetitionOpenSinceYear\": 2014.0, \"Promo2\": 1, \"Promo2SinceWeek\": 10.0, \"Promo2SinceYear\": 2014.0, \"PromoInterval\": \"Mar,Jun,Sept,Dec\"}, {\"Store\": 14, \"DayOfWeek\": 6, \"Date\": \"2015-08-01\", \"Open\": 1.0, \"Promo\": 0, \"StateHoliday\": \"0\", \"SchoolHoliday\": 0, \"StoreType\": \"a\", \"Assortment\": \"a\", \"CompetitionDistance\": 1300.0, \"CompetitionOpenSinceMonth\": 3.0, \"CompetitionOpenSinceYear\": 2014.0, \"Promo2\": 1, \"Promo2SinceWeek\": 40.0, \"Promo2SinceYear\": 2011.0, \"PromoInterval\": \"Jan,Apr,Jul,Oct\"}, {\"Store\": 23, \"DayOfWeek\": 6, \"Date\": \"2015-08-01\", \"Open\": 1.0, \"Promo\": 0, \"StateHoliday\": \"0\", \"SchoolHoliday\": 0, \"StoreType\": \"d\", \"Assortment\": \"a\", \"CompetitionDistance\": 4060.0, \"CompetitionOpenSinceMonth\": 8.0, \"CompetitionOpenSinceYear\": 2005.0, \"Promo2\": 0, \"Promo2SinceWeek\": NaN, \"Promo2SinceYear\": NaN, \"PromoInterval\": NaN}, {\"Store\": 30, \"DayOfWeek\": 6, \"Date\": \"2015-08-01\", \"Open\": 1.0, \"Promo\": 0, \"StateHoliday\": \"0\", \"SchoolHoliday\": 0, \"StoreType\": \"a\", \"Assortment\": \"a\", \"CompetitionDistance\": 40.0, \"CompetitionOpenSinceMonth\": 2.0, \"CompetitionOpenSinceYear\": 2014.0, \"Promo2\": 1, \"Promo2SinceWeek\": 10.0, \"Promo2SinceYear\": 2014.0, \"PromoInterval\": \"Mar,Jun,Sept,Dec\"}]'"
      ]
     },
     "execution_count": 30,
     "metadata": {},
     "output_type": "execute_result"
    }
   ],
   "source": [
    "data"
   ]
  },
  {
   "cell_type": "code",
   "execution_count": null,
   "metadata": {},
   "outputs": [],
   "source": []
  }
 ],
 "metadata": {
  "kernelspec": {
   "display_name": "Python 3",
   "language": "python",
   "name": "python3"
  },
  "language_info": {
   "codemirror_mode": {
    "name": "ipython",
    "version": 3
   },
   "file_extension": ".py",
   "mimetype": "text/x-python",
   "name": "python",
   "nbconvert_exporter": "python",
   "pygments_lexer": "ipython3",
   "version": "3.8.5"
  },
  "toc": {
   "base_numbering": 1,
   "nav_menu": {},
   "number_sections": true,
   "sideBar": true,
   "skip_h1_title": false,
   "title_cell": "Table of Contents",
   "title_sidebar": "Contents",
   "toc_cell": false,
   "toc_position": {},
   "toc_section_display": true,
   "toc_window_display": false
  },
  "toc-autonumbering": true
 },
 "nbformat": 4,
 "nbformat_minor": 4
}
