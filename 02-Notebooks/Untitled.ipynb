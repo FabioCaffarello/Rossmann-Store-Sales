{
 "cells": [
  {
   "cell_type": "code",
   "execution_count": 1,
   "metadata": {
    "ExecuteTime": {
     "end_time": "2021-01-28T18:43:24.553921Z",
     "start_time": "2021-01-28T18:43:22.534193Z"
    }
   },
   "outputs": [],
   "source": [
    "import math\n",
    "import random\n",
    "import pickle\n",
    "import warnings\n",
    "import datetime\n",
    "import inflection\n",
    "\n",
    "import numpy        as np\n",
    "import pandas       as pd\n",
    "import scipy.stats  as ss\n",
    "\n",
    "import seaborn as sns\n",
    "\n",
    "import matplotlib.pyplot as plt\n",
    "from tabulate             import tabulate\n",
    "from IPython.display      import Image\n",
    "from IPython.core.display import HTML\n",
    "\n",
    "from sklearn.preprocessing import RobustScaler, MinMaxScaler, LabelEncoder\n",
    "\n",
    "from sklearn.ensemble import RandomForestRegressor\n",
    "\n",
    "from boruta import BorutaPy\n",
    "\n",
    "import json\n",
    "\n",
    "from sklearn.metrics import mean_absolute_error, mean_squared_error\n",
    "from sklearn.linear_model import LinearRegression, Lasso\n",
    "\n",
    "from xgboost import XGBRegressor\n",
    "from lightgbm import LGBMRegressor"
   ]
  },
  {
   "cell_type": "code",
   "execution_count": 2,
   "metadata": {
    "ExecuteTime": {
     "end_time": "2021-01-28T18:43:24.570041Z",
     "start_time": "2021-01-28T18:43:24.555913Z"
    }
   },
   "outputs": [],
   "source": [
    "import sys\n",
    "sys.path.append('../')\n",
    "\n",
    "from webapp.rossmann.Rossmann import Rossmann"
   ]
  },
  {
   "cell_type": "code",
   "execution_count": 3,
   "metadata": {
    "ExecuteTime": {
     "end_time": "2021-01-28T18:43:24.585921Z",
     "start_time": "2021-01-28T18:43:24.571915Z"
    }
   },
   "outputs": [],
   "source": [
    "pipeline = Rossmann()"
   ]
  },
  {
   "cell_type": "code",
   "execution_count": 12,
   "metadata": {
    "ExecuteTime": {
     "end_time": "2021-01-28T18:47:25.526758Z",
     "start_time": "2021-01-28T18:47:25.474690Z"
    }
   },
   "outputs": [],
   "source": [
    "sales_test = pd.read_csv('../01-Data/test.csv', low_memory=False)\n",
    "store_raw = pd.read_csv('../01-Data/store.csv', low_memory=False)\n",
    "\n",
    "df_teste = sales_test.merge(store_raw, how='left', on='Store')"
   ]
  },
  {
   "cell_type": "code",
   "execution_count": 13,
   "metadata": {
    "ExecuteTime": {
     "end_time": "2021-01-28T18:47:30.089450Z",
     "start_time": "2021-01-28T18:47:26.155482Z"
    }
   },
   "outputs": [
    {
     "name": "stderr",
     "output_type": "stream",
     "text": [
      "..\\webapp\\rossmann\\Rossmann.py:102: FutureWarning: Series.dt.weekofyear and Series.dt.week have been deprecated.  Please use Series.dt.isocalendar().week instead.\n",
      "  df2['week_of_year'] = df2['date'].dt.weekofyear\n"
     ]
    }
   ],
   "source": [
    "df_teste = df_teste[df_teste['Open'] != 0]\n",
    "\n",
    "# Data Cleaning\n",
    "df1 = pipeline.data_cleaning(df_teste)\n",
    "# Feature Engineering\n",
    "df2 = pipeline.feature_engineering(df1)\n",
    "# Data Preparation\n",
    "df3 = pipeline.data_preparation(df2)\n",
    "# Prediction\n",
    "#dfResponse = pipeline.get_prediction(model, testeRaw, df3)"
   ]
  },
  {
   "cell_type": "code",
   "execution_count": 14,
   "metadata": {
    "ExecuteTime": {
     "end_time": "2021-01-28T18:47:37.711670Z",
     "start_time": "2021-01-28T18:47:37.693671Z"
    }
   },
   "outputs": [],
   "source": [
    "def get_prediction(model, original_data, test_data):\n",
    "    # Prediction\n",
    "    pred = model.predict(test_data)\n",
    "\n",
    "    # Join pred into original Data\n",
    "    original_data['prediction'] = np.expm1(pred)\n",
    "\n",
    "    return original_data"
   ]
  },
  {
   "cell_type": "code",
   "execution_count": 15,
   "metadata": {
    "ExecuteTime": {
     "end_time": "2021-01-28T18:47:41.913411Z",
     "start_time": "2021-01-28T18:47:39.310023Z"
    }
   },
   "outputs": [
    {
     "data": {
      "text/html": [
       "<div>\n",
       "<style scoped>\n",
       "    .dataframe tbody tr th:only-of-type {\n",
       "        vertical-align: middle;\n",
       "    }\n",
       "\n",
       "    .dataframe tbody tr th {\n",
       "        vertical-align: top;\n",
       "    }\n",
       "\n",
       "    .dataframe thead th {\n",
       "        text-align: right;\n",
       "    }\n",
       "</style>\n",
       "<table border=\"1\" class=\"dataframe\">\n",
       "  <thead>\n",
       "    <tr style=\"text-align: right;\">\n",
       "      <th></th>\n",
       "      <th>id</th>\n",
       "      <th>store</th>\n",
       "      <th>day_of_week</th>\n",
       "      <th>date</th>\n",
       "      <th>open</th>\n",
       "      <th>promo</th>\n",
       "      <th>state_holiday</th>\n",
       "      <th>school_holiday</th>\n",
       "      <th>store_type</th>\n",
       "      <th>assortment</th>\n",
       "      <th>...</th>\n",
       "      <th>year</th>\n",
       "      <th>month</th>\n",
       "      <th>day</th>\n",
       "      <th>week_of_year</th>\n",
       "      <th>year_week</th>\n",
       "      <th>competion_sinse</th>\n",
       "      <th>competion_time_month</th>\n",
       "      <th>promo_since</th>\n",
       "      <th>promo_time_week</th>\n",
       "      <th>prediction</th>\n",
       "    </tr>\n",
       "  </thead>\n",
       "  <tbody>\n",
       "    <tr>\n",
       "      <th>0</th>\n",
       "      <td>1</td>\n",
       "      <td>1</td>\n",
       "      <td>4</td>\n",
       "      <td>2015-09-17</td>\n",
       "      <td>1.0</td>\n",
       "      <td>1</td>\n",
       "      <td>regular day</td>\n",
       "      <td>0</td>\n",
       "      <td>c</td>\n",
       "      <td>basic</td>\n",
       "      <td>...</td>\n",
       "      <td>2015</td>\n",
       "      <td>9</td>\n",
       "      <td>17</td>\n",
       "      <td>38</td>\n",
       "      <td>2015-37</td>\n",
       "      <td>2008-09-01</td>\n",
       "      <td>85</td>\n",
       "      <td>2015-09-14</td>\n",
       "      <td>0</td>\n",
       "      <td>4251.291016</td>\n",
       "    </tr>\n",
       "    <tr>\n",
       "      <th>1</th>\n",
       "      <td>2</td>\n",
       "      <td>3</td>\n",
       "      <td>4</td>\n",
       "      <td>2015-09-17</td>\n",
       "      <td>1.0</td>\n",
       "      <td>1</td>\n",
       "      <td>regular day</td>\n",
       "      <td>0</td>\n",
       "      <td>a</td>\n",
       "      <td>basic</td>\n",
       "      <td>...</td>\n",
       "      <td>2015</td>\n",
       "      <td>9</td>\n",
       "      <td>17</td>\n",
       "      <td>38</td>\n",
       "      <td>2015-37</td>\n",
       "      <td>2006-12-01</td>\n",
       "      <td>107</td>\n",
       "      <td>2011-03-28</td>\n",
       "      <td>233</td>\n",
       "      <td>6105.725098</td>\n",
       "    </tr>\n",
       "    <tr>\n",
       "      <th>2</th>\n",
       "      <td>3</td>\n",
       "      <td>7</td>\n",
       "      <td>4</td>\n",
       "      <td>2015-09-17</td>\n",
       "      <td>1.0</td>\n",
       "      <td>1</td>\n",
       "      <td>regular day</td>\n",
       "      <td>0</td>\n",
       "      <td>a</td>\n",
       "      <td>extended</td>\n",
       "      <td>...</td>\n",
       "      <td>2015</td>\n",
       "      <td>9</td>\n",
       "      <td>17</td>\n",
       "      <td>38</td>\n",
       "      <td>2015-37</td>\n",
       "      <td>2013-04-01</td>\n",
       "      <td>29</td>\n",
       "      <td>2015-09-14</td>\n",
       "      <td>0</td>\n",
       "      <td>6216.384277</td>\n",
       "    </tr>\n",
       "    <tr>\n",
       "      <th>3</th>\n",
       "      <td>4</td>\n",
       "      <td>8</td>\n",
       "      <td>4</td>\n",
       "      <td>2015-09-17</td>\n",
       "      <td>1.0</td>\n",
       "      <td>1</td>\n",
       "      <td>regular day</td>\n",
       "      <td>0</td>\n",
       "      <td>a</td>\n",
       "      <td>basic</td>\n",
       "      <td>...</td>\n",
       "      <td>2015</td>\n",
       "      <td>9</td>\n",
       "      <td>17</td>\n",
       "      <td>38</td>\n",
       "      <td>2015-37</td>\n",
       "      <td>2014-10-01</td>\n",
       "      <td>11</td>\n",
       "      <td>2015-09-14</td>\n",
       "      <td>0</td>\n",
       "      <td>5616.511719</td>\n",
       "    </tr>\n",
       "    <tr>\n",
       "      <th>4</th>\n",
       "      <td>5</td>\n",
       "      <td>9</td>\n",
       "      <td>4</td>\n",
       "      <td>2015-09-17</td>\n",
       "      <td>1.0</td>\n",
       "      <td>1</td>\n",
       "      <td>regular day</td>\n",
       "      <td>0</td>\n",
       "      <td>a</td>\n",
       "      <td>extended</td>\n",
       "      <td>...</td>\n",
       "      <td>2015</td>\n",
       "      <td>9</td>\n",
       "      <td>17</td>\n",
       "      <td>38</td>\n",
       "      <td>2015-37</td>\n",
       "      <td>2000-08-01</td>\n",
       "      <td>184</td>\n",
       "      <td>2015-09-14</td>\n",
       "      <td>0</td>\n",
       "      <td>6479.495117</td>\n",
       "    </tr>\n",
       "  </tbody>\n",
       "</table>\n",
       "<p>5 rows × 29 columns</p>\n",
       "</div>"
      ],
      "text/plain": [
       "   id  store  day_of_week       date  open  promo state_holiday  \\\n",
       "0   1      1            4 2015-09-17   1.0      1   regular day   \n",
       "1   2      3            4 2015-09-17   1.0      1   regular day   \n",
       "2   3      7            4 2015-09-17   1.0      1   regular day   \n",
       "3   4      8            4 2015-09-17   1.0      1   regular day   \n",
       "4   5      9            4 2015-09-17   1.0      1   regular day   \n",
       "\n",
       "   school_holiday store_type assortment  ...  year  month  day  week_of_year  \\\n",
       "0               0          c      basic  ...  2015      9   17            38   \n",
       "1               0          a      basic  ...  2015      9   17            38   \n",
       "2               0          a   extended  ...  2015      9   17            38   \n",
       "3               0          a      basic  ...  2015      9   17            38   \n",
       "4               0          a   extended  ...  2015      9   17            38   \n",
       "\n",
       "   year_week  competion_sinse competion_time_month promo_since  \\\n",
       "0    2015-37       2008-09-01                   85  2015-09-14   \n",
       "1    2015-37       2006-12-01                  107  2011-03-28   \n",
       "2    2015-37       2013-04-01                   29  2015-09-14   \n",
       "3    2015-37       2014-10-01                   11  2015-09-14   \n",
       "4    2015-37       2000-08-01                  184  2015-09-14   \n",
       "\n",
       "   promo_time_week   prediction  \n",
       "0                0  4251.291016  \n",
       "1              233  6105.725098  \n",
       "2                0  6216.384277  \n",
       "3                0  5616.511719  \n",
       "4                0  6479.495117  \n",
       "\n",
       "[5 rows x 29 columns]"
      ]
     },
     "execution_count": 15,
     "metadata": {},
     "output_type": "execute_result"
    }
   ],
   "source": [
    "model = pickle.load(open('../webapp/model/1_flc_xgb_tuned.pkl', 'rb'))\n",
    "# Prediction\n",
    "dfResponse = get_prediction(model, df_teste, df3)\n",
    "dfResponse.head()"
   ]
  },
  {
   "cell_type": "code",
   "execution_count": null,
   "metadata": {},
   "outputs": [],
   "source": []
  },
  {
   "cell_type": "code",
   "execution_count": 16,
   "metadata": {
    "ExecuteTime": {
     "end_time": "2021-01-28T18:53:14.214871Z",
     "start_time": "2021-01-28T18:53:14.078932Z"
    }
   },
   "outputs": [],
   "source": [
    "import requests\n",
    "import json"
   ]
  },
  {
   "cell_type": "code",
   "execution_count": null,
   "metadata": {},
   "outputs": [],
   "source": [
    "### API local"
   ]
  },
  {
   "cell_type": "code",
   "execution_count": 19,
   "metadata": {
    "ExecuteTime": {
     "end_time": "2021-01-28T18:56:25.087912Z",
     "start_time": "2021-01-28T18:56:25.023906Z"
    }
   },
   "outputs": [],
   "source": [
    "sales_test = pd.read_csv('../01-Data/test.csv', low_memory=False)\n",
    "store_raw = pd.read_csv('../01-Data/store.csv', low_memory=False)\n",
    "\n",
    "df_teste = sales_test.merge(store_raw, how='left', on='Store')\n",
    "\n",
    "storeList = [30, 14, 23]\n",
    "\n",
    "# Choose Store for Prediction\n",
    "df_teste = df_teste[df_teste['Store'].isin(storeList)]\n",
    "\n",
    "# Remove Closed Days\n",
    "df_teste = df_teste[df_teste['Open'] != 0]\n",
    "df_teste = df_teste[~df_teste['Open'].isnull()]\n",
    "df_teste = df_teste.drop('Id', axis=1)"
   ]
  },
  {
   "cell_type": "code",
   "execution_count": 20,
   "metadata": {
    "ExecuteTime": {
     "end_time": "2021-01-28T18:56:29.107527Z",
     "start_time": "2021-01-28T18:56:29.099525Z"
    }
   },
   "outputs": [],
   "source": [
    "# Convert DataFrame to JSON\n",
    "data = json.dumps(df_teste.to_dict(orient='records'))"
   ]
  },
  {
   "cell_type": "code",
   "execution_count": 21,
   "metadata": {
    "ExecuteTime": {
     "end_time": "2021-01-28T18:56:35.455782Z",
     "start_time": "2021-01-28T18:56:33.325488Z"
    }
   },
   "outputs": [
    {
     "name": "stdout",
     "output_type": "stream",
     "text": [
      "Status Code 200\n"
     ]
    }
   ],
   "source": [
    "## API Call\n",
    "url = 'http://localhost:5000/rossmann/predict'\n",
    "#url = 'https://model-rossmann.herokuapp.com/rossmann/predict'\n",
    "header = {'Content-Type': 'application/json'}\n",
    "data = data\n",
    "\n",
    "r = requests.post(url, data=data, headers=header)\n",
    "print('Status Code {}'.format(r.status_code))"
   ]
  },
  {
   "cell_type": "code",
   "execution_count": 22,
   "metadata": {
    "ExecuteTime": {
     "end_time": "2021-01-28T18:56:58.078163Z",
     "start_time": "2021-01-28T18:56:58.070163Z"
    }
   },
   "outputs": [],
   "source": [
    "df_response = pd.DataFrame(r.json(), columns=r.json()[0].keys())"
   ]
  },
  {
   "cell_type": "code",
   "execution_count": 23,
   "metadata": {
    "ExecuteTime": {
     "end_time": "2021-01-28T18:57:05.065386Z",
     "start_time": "2021-01-28T18:57:05.034387Z"
    }
   },
   "outputs": [
    {
     "data": {
      "text/html": [
       "<div>\n",
       "<style scoped>\n",
       "    .dataframe tbody tr th:only-of-type {\n",
       "        vertical-align: middle;\n",
       "    }\n",
       "\n",
       "    .dataframe tbody tr th {\n",
       "        vertical-align: top;\n",
       "    }\n",
       "\n",
       "    .dataframe thead th {\n",
       "        text-align: right;\n",
       "    }\n",
       "</style>\n",
       "<table border=\"1\" class=\"dataframe\">\n",
       "  <thead>\n",
       "    <tr style=\"text-align: right;\">\n",
       "      <th></th>\n",
       "      <th>store</th>\n",
       "      <th>day_of_week</th>\n",
       "      <th>date</th>\n",
       "      <th>open</th>\n",
       "      <th>promo</th>\n",
       "      <th>state_holiday</th>\n",
       "      <th>school_holiday</th>\n",
       "      <th>store_type</th>\n",
       "      <th>assortment</th>\n",
       "      <th>competition_distance</th>\n",
       "      <th>...</th>\n",
       "      <th>year</th>\n",
       "      <th>month</th>\n",
       "      <th>day</th>\n",
       "      <th>week_of_year</th>\n",
       "      <th>year_week</th>\n",
       "      <th>competion_sinse</th>\n",
       "      <th>competion_time_month</th>\n",
       "      <th>promo_since</th>\n",
       "      <th>promo_time_week</th>\n",
       "      <th>prediction</th>\n",
       "    </tr>\n",
       "  </thead>\n",
       "  <tbody>\n",
       "    <tr>\n",
       "      <th>0</th>\n",
       "      <td>14</td>\n",
       "      <td>4</td>\n",
       "      <td>2015-09-17T00:00:00.000Z</td>\n",
       "      <td>1.0</td>\n",
       "      <td>1</td>\n",
       "      <td>regular day</td>\n",
       "      <td>0</td>\n",
       "      <td>a</td>\n",
       "      <td>basic</td>\n",
       "      <td>1300.0</td>\n",
       "      <td>...</td>\n",
       "      <td>2015</td>\n",
       "      <td>9</td>\n",
       "      <td>17</td>\n",
       "      <td>38</td>\n",
       "      <td>2015-37</td>\n",
       "      <td>2014-03-01T00:00:00.000Z</td>\n",
       "      <td>18</td>\n",
       "      <td>2011-09-26T00:00:00.000Z</td>\n",
       "      <td>207</td>\n",
       "      <td>6323.219727</td>\n",
       "    </tr>\n",
       "    <tr>\n",
       "      <th>1</th>\n",
       "      <td>23</td>\n",
       "      <td>4</td>\n",
       "      <td>2015-09-17T00:00:00.000Z</td>\n",
       "      <td>1.0</td>\n",
       "      <td>1</td>\n",
       "      <td>regular day</td>\n",
       "      <td>0</td>\n",
       "      <td>d</td>\n",
       "      <td>basic</td>\n",
       "      <td>4060.0</td>\n",
       "      <td>...</td>\n",
       "      <td>2015</td>\n",
       "      <td>9</td>\n",
       "      <td>17</td>\n",
       "      <td>38</td>\n",
       "      <td>2015-37</td>\n",
       "      <td>2005-08-01T00:00:00.000Z</td>\n",
       "      <td>123</td>\n",
       "      <td>2015-09-14T00:00:00.000Z</td>\n",
       "      <td>0</td>\n",
       "      <td>7890.851562</td>\n",
       "    </tr>\n",
       "    <tr>\n",
       "      <th>2</th>\n",
       "      <td>30</td>\n",
       "      <td>4</td>\n",
       "      <td>2015-09-17T00:00:00.000Z</td>\n",
       "      <td>1.0</td>\n",
       "      <td>1</td>\n",
       "      <td>regular day</td>\n",
       "      <td>0</td>\n",
       "      <td>a</td>\n",
       "      <td>basic</td>\n",
       "      <td>40.0</td>\n",
       "      <td>...</td>\n",
       "      <td>2015</td>\n",
       "      <td>9</td>\n",
       "      <td>17</td>\n",
       "      <td>38</td>\n",
       "      <td>2015-37</td>\n",
       "      <td>2014-02-01T00:00:00.000Z</td>\n",
       "      <td>19</td>\n",
       "      <td>2014-03-03T00:00:00.000Z</td>\n",
       "      <td>80</td>\n",
       "      <td>4946.782715</td>\n",
       "    </tr>\n",
       "    <tr>\n",
       "      <th>3</th>\n",
       "      <td>14</td>\n",
       "      <td>3</td>\n",
       "      <td>2015-09-16T00:00:00.000Z</td>\n",
       "      <td>1.0</td>\n",
       "      <td>1</td>\n",
       "      <td>regular day</td>\n",
       "      <td>0</td>\n",
       "      <td>a</td>\n",
       "      <td>basic</td>\n",
       "      <td>1300.0</td>\n",
       "      <td>...</td>\n",
       "      <td>2015</td>\n",
       "      <td>9</td>\n",
       "      <td>16</td>\n",
       "      <td>38</td>\n",
       "      <td>2015-37</td>\n",
       "      <td>2014-03-01T00:00:00.000Z</td>\n",
       "      <td>18</td>\n",
       "      <td>2011-09-26T00:00:00.000Z</td>\n",
       "      <td>207</td>\n",
       "      <td>6422.070312</td>\n",
       "    </tr>\n",
       "    <tr>\n",
       "      <th>4</th>\n",
       "      <td>23</td>\n",
       "      <td>3</td>\n",
       "      <td>2015-09-16T00:00:00.000Z</td>\n",
       "      <td>1.0</td>\n",
       "      <td>1</td>\n",
       "      <td>regular day</td>\n",
       "      <td>0</td>\n",
       "      <td>d</td>\n",
       "      <td>basic</td>\n",
       "      <td>4060.0</td>\n",
       "      <td>...</td>\n",
       "      <td>2015</td>\n",
       "      <td>9</td>\n",
       "      <td>16</td>\n",
       "      <td>38</td>\n",
       "      <td>2015-37</td>\n",
       "      <td>2005-08-01T00:00:00.000Z</td>\n",
       "      <td>123</td>\n",
       "      <td>2015-09-14T00:00:00.000Z</td>\n",
       "      <td>0</td>\n",
       "      <td>7532.273438</td>\n",
       "    </tr>\n",
       "  </tbody>\n",
       "</table>\n",
       "<p>5 rows × 28 columns</p>\n",
       "</div>"
      ],
      "text/plain": [
       "   store  day_of_week                      date  open  promo state_holiday  \\\n",
       "0     14            4  2015-09-17T00:00:00.000Z   1.0      1   regular day   \n",
       "1     23            4  2015-09-17T00:00:00.000Z   1.0      1   regular day   \n",
       "2     30            4  2015-09-17T00:00:00.000Z   1.0      1   regular day   \n",
       "3     14            3  2015-09-16T00:00:00.000Z   1.0      1   regular day   \n",
       "4     23            3  2015-09-16T00:00:00.000Z   1.0      1   regular day   \n",
       "\n",
       "   school_holiday store_type assortment  competition_distance  ...  year  \\\n",
       "0               0          a      basic                1300.0  ...  2015   \n",
       "1               0          d      basic                4060.0  ...  2015   \n",
       "2               0          a      basic                  40.0  ...  2015   \n",
       "3               0          a      basic                1300.0  ...  2015   \n",
       "4               0          d      basic                4060.0  ...  2015   \n",
       "\n",
       "   month  day  week_of_year  year_week           competion_sinse  \\\n",
       "0      9   17            38    2015-37  2014-03-01T00:00:00.000Z   \n",
       "1      9   17            38    2015-37  2005-08-01T00:00:00.000Z   \n",
       "2      9   17            38    2015-37  2014-02-01T00:00:00.000Z   \n",
       "3      9   16            38    2015-37  2014-03-01T00:00:00.000Z   \n",
       "4      9   16            38    2015-37  2005-08-01T00:00:00.000Z   \n",
       "\n",
       "  competion_time_month               promo_since  promo_time_week   prediction  \n",
       "0                   18  2011-09-26T00:00:00.000Z              207  6323.219727  \n",
       "1                  123  2015-09-14T00:00:00.000Z                0  7890.851562  \n",
       "2                   19  2014-03-03T00:00:00.000Z               80  4946.782715  \n",
       "3                   18  2011-09-26T00:00:00.000Z              207  6422.070312  \n",
       "4                  123  2015-09-14T00:00:00.000Z                0  7532.273438  \n",
       "\n",
       "[5 rows x 28 columns]"
      ]
     },
     "execution_count": 23,
     "metadata": {},
     "output_type": "execute_result"
    }
   ],
   "source": [
    "df_response.head()"
   ]
  },
  {
   "cell_type": "code",
   "execution_count": null,
   "metadata": {},
   "outputs": [],
   "source": []
  }
 ],
 "metadata": {
  "kernelspec": {
   "display_name": "Python 3",
   "language": "python",
   "name": "python3"
  },
  "language_info": {
   "codemirror_mode": {
    "name": "ipython",
    "version": 3
   },
   "file_extension": ".py",
   "mimetype": "text/x-python",
   "name": "python",
   "nbconvert_exporter": "python",
   "pygments_lexer": "ipython3",
   "version": "3.8.5"
  },
  "toc": {
   "base_numbering": 1,
   "nav_menu": {},
   "number_sections": true,
   "sideBar": true,
   "skip_h1_title": false,
   "title_cell": "Table of Contents",
   "title_sidebar": "Contents",
   "toc_cell": false,
   "toc_position": {},
   "toc_section_display": true,
   "toc_window_display": false
  }
 },
 "nbformat": 4,
 "nbformat_minor": 4
}
